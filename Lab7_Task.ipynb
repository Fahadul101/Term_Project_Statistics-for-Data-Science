{
  "nbformat": 4,
  "nbformat_minor": 0,
  "metadata": {
    "colab": {
      "name": "Lab7_Task.ipynb",
      "provenance": [],
      "collapsed_sections": [],
      "include_colab_link": true
    },
    "kernelspec": {
      "name": "python3",
      "display_name": "Python 3"
    },
    "language_info": {
      "name": "python"
    }
  },
  "cells": [
    {
      "cell_type": "markdown",
      "metadata": {
        "id": "view-in-github",
        "colab_type": "text"
      },
      "source": [
        "<a href=\"https://colab.research.google.com/github/IslamFahadul/Term_Project_Statistics-for-Data-Science/blob/main/Lab7_Task.ipynb\" target=\"_parent\"><img src=\"https://colab.research.google.com/assets/colab-badge.svg\" alt=\"Open In Colab\"/></a>"
      ]
    },
    {
      "cell_type": "code",
      "execution_count": null,
      "metadata": {
        "id": "O4rI2wpzQlWP"
      },
      "outputs": [],
      "source": [
        "import pandas as pd\n",
        "import matplotlib.pyplot as plt\n",
        "import numpy as np\n"
      ]
    },
    {
      "cell_type": "code",
      "source": [
        "df = pd.read_csv('dummy1.csv')\n",
        "print(df)\n",
        "col_names = np.array(df.columns)\n",
        "\n",
        "df.info()"
      ],
      "metadata": {
        "colab": {
          "base_uri": "https://localhost:8080/"
        },
        "id": "bX3Sp5K0Q6zO",
        "outputId": "41dd3957-b007-44c6-e10f-c7ea1c23da3d"
      },
      "execution_count": null,
      "outputs": [
        {
          "output_type": "stream",
          "name": "stdout",
          "text": [
            "    id    X   Y     T\n",
            "0    1    1        No\n",
            "1    2    5   B    No\n",
            "2    3    7   C    No\n",
            "3    4   10   A   Yes\n",
            "4    5    2   B    No\n",
            "5    6    5   C   Yes\n",
            "6    7        A   Yes\n",
            "7    8    9   B   Yes\n",
            "8    9    1   C   Yes\n",
            "9   10    2   A    No\n",
            "10  11    8   A   Yes\n",
            "11  12    3   A    No\n",
            "12  13    8   B   Yes\n",
            "13  14   10        No\n",
            "14  15    7   B    No\n",
            "15  16    7   A    No\n",
            "16  17    1   C   Yes\n",
            "17  18    6   A   Yes\n",
            "18  19        C   Yes\n",
            "19  20    6   B    No\n",
            "<class 'pandas.core.frame.DataFrame'>\n",
            "RangeIndex: 20 entries, 0 to 19\n",
            "Data columns (total 4 columns):\n",
            " #   Column  Non-Null Count  Dtype \n",
            "---  ------  --------------  ----- \n",
            " 0   id      20 non-null     int64 \n",
            " 1    X      20 non-null     object\n",
            " 2    Y      20 non-null     object\n",
            " 3    T      20 non-null     object\n",
            "dtypes: int64(1), object(3)\n",
            "memory usage: 768.0+ bytes\n"
          ]
        }
      ]
    },
    {
      "cell_type": "code",
      "source": [
        "df[' X']\n",
        "df[' X'] = pd.to_numeric(df[' X'],errors='coerce')\n",
        "df = df.fillna(method='ffill')\n",
        "\n",
        "df.info()"
      ],
      "metadata": {
        "colab": {
          "base_uri": "https://localhost:8080/"
        },
        "id": "qDDEoU8nRNL8",
        "outputId": "c8e3dce2-d582-456b-c7fc-d374e2275d45"
      },
      "execution_count": null,
      "outputs": [
        {
          "output_type": "stream",
          "name": "stdout",
          "text": [
            "<class 'pandas.core.frame.DataFrame'>\n",
            "RangeIndex: 20 entries, 0 to 19\n",
            "Data columns (total 4 columns):\n",
            " #   Column  Non-Null Count  Dtype  \n",
            "---  ------  --------------  -----  \n",
            " 0   id      20 non-null     int64  \n",
            " 1    X      20 non-null     float64\n",
            " 2    Y      20 non-null     object \n",
            " 3    T      20 non-null     object \n",
            "dtypes: float64(1), int64(1), object(2)\n",
            "memory usage: 768.0+ bytes\n"
          ]
        }
      ]
    },
    {
      "cell_type": "code",
      "source": [
        "df[' X'] = df[' X'].astype(int)\n",
        "df.info()\n",
        "df[' Y']\n",
        "\n",
        "y_col = np.array(df[' Y'])\n"
      ],
      "metadata": {
        "colab": {
          "base_uri": "https://localhost:8080/"
        },
        "id": "XZcbYZHuRYBC",
        "outputId": "2584632c-9924-4d9e-a0d3-ee1b50f15f51"
      },
      "execution_count": null,
      "outputs": [
        {
          "output_type": "stream",
          "name": "stdout",
          "text": [
            "<class 'pandas.core.frame.DataFrame'>\n",
            "RangeIndex: 20 entries, 0 to 19\n",
            "Data columns (total 4 columns):\n",
            " #   Column  Non-Null Count  Dtype \n",
            "---  ------  --------------  ----- \n",
            " 0   id      20 non-null     int64 \n",
            " 1    X      20 non-null     int64 \n",
            " 2    Y      20 non-null     object\n",
            " 3    T      20 non-null     object\n",
            "dtypes: int64(2), object(2)\n",
            "memory usage: 768.0+ bytes\n"
          ]
        }
      ]
    },
    {
      "cell_type": "code",
      "source": [
        "from sklearn.preprocessing import LabelEncoder\n",
        "le = LabelEncoder()"
      ],
      "metadata": {
        "id": "dOjZZlQWRh8D"
      },
      "execution_count": null,
      "outputs": []
    },
    {
      "cell_type": "code",
      "source": [
        "df.columns"
      ],
      "metadata": {
        "id": "PErFT5uPdbze",
        "outputId": "ce2f294a-6032-44bf-b7a9-29d98d09abe5",
        "colab": {
          "base_uri": "https://localhost:8080/"
        }
      },
      "execution_count": null,
      "outputs": [
        {
          "output_type": "execute_result",
          "data": {
            "text/plain": [
              "Index(['id', ' X', ' Y', ' T'], dtype='object')"
            ]
          },
          "metadata": {},
          "execution_count": 50
        }
      ]
    },
    {
      "cell_type": "code",
      "source": [
        "df = df.rename(columns = {' Y':' Y'})\n",
        "\n",
        "df[' Y'].mode()\n",
        "\n",
        "df[' Y'] = df[' Y'].replace(to_replace = ['  ',' '],value = ['A','A'])\n",
        "\n",
        "df.rename(columns={' X':\"X\",' Y':\"Y\",' T':\"T\"} ,inplace=True)\n",
        "\n",
        "\n"
      ],
      "metadata": {
        "id": "c9uEBVs2cbVa"
      },
      "execution_count": null,
      "outputs": []
    },
    {
      "cell_type": "code",
      "source": [
        "dfle =df\n",
        "dfle.Y = le.fit_transform(dfle.Y)\n",
        "dfle\n",
        "df = dfle\n",
        "df\n",
        "df.info()\n",
        "print(df)\n",
        "\n",
        "df['T']\n",
        "df['T'] = df['T'].replace(to_replace=[' No',' Yes'],value=[float(0),float(1)])\n",
        "df.info()"
      ],
      "metadata": {
        "colab": {
          "base_uri": "https://localhost:8080/"
        },
        "id": "885LrHOSSBQL",
        "outputId": "77d0767b-cf26-4d3c-dcce-a69947935120"
      },
      "execution_count": null,
      "outputs": [
        {
          "output_type": "stream",
          "name": "stdout",
          "text": [
            "<class 'pandas.core.frame.DataFrame'>\n",
            "RangeIndex: 20 entries, 0 to 19\n",
            "Data columns (total 4 columns):\n",
            " #   Column  Non-Null Count  Dtype \n",
            "---  ------  --------------  ----- \n",
            " 0   id      20 non-null     int64 \n",
            " 1   X       20 non-null     int64 \n",
            " 2   Y       20 non-null     int64 \n",
            " 3   T       20 non-null     object\n",
            "dtypes: int64(3), object(1)\n",
            "memory usage: 768.0+ bytes\n",
            "    id   X  Y     T\n",
            "0    1   1  3    No\n",
            "1    2   5  1    No\n",
            "2    3   7  2    No\n",
            "3    4  10  0   Yes\n",
            "4    5   2  1    No\n",
            "5    6   5  2   Yes\n",
            "6    7   5  0   Yes\n",
            "7    8   9  1   Yes\n",
            "8    9   1  2   Yes\n",
            "9   10   2  0    No\n",
            "10  11   8  0   Yes\n",
            "11  12   3  0    No\n",
            "12  13   8  1   Yes\n",
            "13  14  10  3    No\n",
            "14  15   7  1    No\n",
            "15  16   7  0    No\n",
            "16  17   1  2   Yes\n",
            "17  18   6  0   Yes\n",
            "18  19   6  2   Yes\n",
            "19  20   6  1    No\n",
            "<class 'pandas.core.frame.DataFrame'>\n",
            "RangeIndex: 20 entries, 0 to 19\n",
            "Data columns (total 4 columns):\n",
            " #   Column  Non-Null Count  Dtype  \n",
            "---  ------  --------------  -----  \n",
            " 0   id      20 non-null     int64  \n",
            " 1   X       20 non-null     int64  \n",
            " 2   Y       20 non-null     int64  \n",
            " 3   T       20 non-null     float64\n",
            "dtypes: float64(1), int64(3)\n",
            "memory usage: 768.0 bytes\n"
          ]
        }
      ]
    },
    {
      "cell_type": "code",
      "source": [
        "import statsmodels.api as sm"
      ],
      "metadata": {
        "id": "zeuwzTP2WwG4"
      },
      "execution_count": null,
      "outputs": []
    },
    {
      "cell_type": "code",
      "source": [
        "X_train = df[['X','Y']]\n",
        "Y_train = df[['T']]\n",
        "\n",
        "logistic =  sm.Logit(Y_train, X_train).fit()\n",
        "\n",
        "logistic.summary()"
      ],
      "metadata": {
        "colab": {
          "base_uri": "https://localhost:8080/",
          "height": 296
        },
        "id": "0Cg69nkAWzjw",
        "outputId": "9dbfd0ef-d265-4fc7-ece6-7fadd891bfcc"
      },
      "execution_count": null,
      "outputs": [
        {
          "output_type": "stream",
          "name": "stdout",
          "text": [
            "Optimization terminated successfully.\n",
            "         Current function value: 0.680630\n",
            "         Iterations 4\n"
          ]
        },
        {
          "output_type": "execute_result",
          "data": {
            "text/html": [
              "<table class=\"simpletable\">\n",
              "<caption>Logit Regression Results</caption>\n",
              "<tr>\n",
              "  <th>Dep. Variable:</th>           <td>T</td>        <th>  No. Observations:  </th>  <td>    20</td> \n",
              "</tr>\n",
              "<tr>\n",
              "  <th>Model:</th>                 <td>Logit</td>      <th>  Df Residuals:      </th>  <td>    18</td> \n",
              "</tr>\n",
              "<tr>\n",
              "  <th>Method:</th>                 <td>MLE</td>       <th>  Df Model:          </th>  <td>     1</td> \n",
              "</tr>\n",
              "<tr>\n",
              "  <th>Date:</th>            <td>Mon, 03 Jan 2022</td> <th>  Pseudo R-squ.:     </th>  <td>0.01806</td>\n",
              "</tr>\n",
              "<tr>\n",
              "  <th>Time:</th>                <td>10:45:18</td>     <th>  Log-Likelihood:    </th> <td> -13.613</td>\n",
              "</tr>\n",
              "<tr>\n",
              "  <th>converged:</th>             <td>True</td>       <th>  LL-Null:           </th> <td> -13.863</td>\n",
              "</tr>\n",
              "<tr>\n",
              "  <th>Covariance Type:</th>     <td>nonrobust</td>    <th>  LLR p-value:       </th>  <td>0.4792</td> \n",
              "</tr>\n",
              "</table>\n",
              "<table class=\"simpletable\">\n",
              "<tr>\n",
              "  <td></td>     <th>coef</th>     <th>std err</th>      <th>z</th>      <th>P>|z|</th>  <th>[0.025</th>    <th>0.975]</th>  \n",
              "</tr>\n",
              "<tr>\n",
              "  <th>X</th> <td>    0.0589</td> <td>    0.093</td> <td>    0.633</td> <td> 0.527</td> <td>   -0.124</td> <td>    0.241</td>\n",
              "</tr>\n",
              "<tr>\n",
              "  <th>Y</th> <td>   -0.2404</td> <td>    0.388</td> <td>   -0.619</td> <td> 0.536</td> <td>   -1.001</td> <td>    0.520</td>\n",
              "</tr>\n",
              "</table>"
            ],
            "text/plain": [
              "<class 'statsmodels.iolib.summary.Summary'>\n",
              "\"\"\"\n",
              "                           Logit Regression Results                           \n",
              "==============================================================================\n",
              "Dep. Variable:                      T   No. Observations:                   20\n",
              "Model:                          Logit   Df Residuals:                       18\n",
              "Method:                           MLE   Df Model:                            1\n",
              "Date:                Mon, 03 Jan 2022   Pseudo R-squ.:                 0.01806\n",
              "Time:                        10:45:18   Log-Likelihood:                -13.613\n",
              "converged:                       True   LL-Null:                       -13.863\n",
              "Covariance Type:            nonrobust   LLR p-value:                    0.4792\n",
              "==============================================================================\n",
              "                 coef    std err          z      P>|z|      [0.025      0.975]\n",
              "------------------------------------------------------------------------------\n",
              "X              0.0589      0.093      0.633      0.527      -0.124       0.241\n",
              "Y             -0.2404      0.388     -0.619      0.536      -1.001       0.520\n",
              "==============================================================================\n",
              "\"\"\""
            ]
          },
          "metadata": {},
          "execution_count": 54
        }
      ]
    },
    {
      "cell_type": "code",
      "source": [
        "from sklearn.model_selection import train_test_split"
      ],
      "metadata": {
        "id": "XXCrD6A8W5jQ"
      },
      "execution_count": null,
      "outputs": []
    },
    {
      "cell_type": "code",
      "source": [
        "X1 = df[['X','Y']]\n",
        "Y1 = df['T']\n",
        "\n",
        "print(X1)\n",
        "print(Y1)"
      ],
      "metadata": {
        "colab": {
          "base_uri": "https://localhost:8080/"
        },
        "id": "xBBTQ869W8vs",
        "outputId": "60ce8546-7e64-4594-b6ef-a6933973819a"
      },
      "execution_count": null,
      "outputs": [
        {
          "output_type": "stream",
          "name": "stdout",
          "text": [
            "     X  Y\n",
            "0    1  3\n",
            "1    5  1\n",
            "2    7  2\n",
            "3   10  0\n",
            "4    2  1\n",
            "5    5  2\n",
            "6    5  0\n",
            "7    9  1\n",
            "8    1  2\n",
            "9    2  0\n",
            "10   8  0\n",
            "11   3  0\n",
            "12   8  1\n",
            "13  10  3\n",
            "14   7  1\n",
            "15   7  0\n",
            "16   1  2\n",
            "17   6  0\n",
            "18   6  2\n",
            "19   6  1\n",
            "0     0.0\n",
            "1     0.0\n",
            "2     0.0\n",
            "3     1.0\n",
            "4     0.0\n",
            "5     1.0\n",
            "6     1.0\n",
            "7     1.0\n",
            "8     1.0\n",
            "9     0.0\n",
            "10    1.0\n",
            "11    0.0\n",
            "12    1.0\n",
            "13    0.0\n",
            "14    0.0\n",
            "15    0.0\n",
            "16    1.0\n",
            "17    1.0\n",
            "18    1.0\n",
            "19    0.0\n",
            "Name: T, dtype: float64\n"
          ]
        }
      ]
    },
    {
      "cell_type": "code",
      "source": [
        "X1_train, X1_test, Y1_train, Y1_test = train_test_split(X1, Y1, test_size=0.2, random_state=0)"
      ],
      "metadata": {
        "id": "xa-pLWDgXAOF"
      },
      "execution_count": null,
      "outputs": []
    },
    {
      "cell_type": "code",
      "source": [
        "from sklearn.linear_model import LogisticRegression"
      ],
      "metadata": {
        "id": "FEjjYBbrXDcx"
      },
      "execution_count": null,
      "outputs": []
    },
    {
      "cell_type": "code",
      "source": [
        "\n",
        "model = LogisticRegression()\n",
        "\n",
        "model.fit(X1_train,Y1_train)\n",
        "\n",
        "Y_pred = model.predict(X1_test)\n",
        "\n",
        "Y_pred\n",
        "\n",
        "prediction = list(map(round,Y_pred))\n",
        "print(prediction)"
      ],
      "metadata": {
        "colab": {
          "base_uri": "https://localhost:8080/"
        },
        "id": "cpP7Tn9KXGyv",
        "outputId": "4d2049fd-f4b7-417e-fe9a-eafec80c88fe"
      },
      "execution_count": null,
      "outputs": [
        {
          "output_type": "stream",
          "name": "stdout",
          "text": [
            "[0, 0, 1, 0]\n"
          ]
        }
      ]
    },
    {
      "cell_type": "code",
      "source": [
        "\n",
        "print('Actual Class:    ', list(Y1_test.values))\n",
        "print('Predicted Class: ',prediction)"
      ],
      "metadata": {
        "colab": {
          "base_uri": "https://localhost:8080/"
        },
        "id": "51n24bIGXM54",
        "outputId": "0db27549-37ff-4f1c-8d6c-ce5d1119569e"
      },
      "execution_count": null,
      "outputs": [
        {
          "output_type": "stream",
          "name": "stdout",
          "text": [
            "Actual Class:     [1.0, 0.0, 0.0, 1.0]\n",
            "Predicted Class:  [0, 0, 1, 0]\n"
          ]
        }
      ]
    },
    {
      "cell_type": "code",
      "source": [
        "\n",
        "from sklearn.metrics import confusion_matrix, accuracy_score"
      ],
      "metadata": {
        "id": "Nfl3rXwmXQSd"
      },
      "execution_count": null,
      "outputs": []
    },
    {
      "cell_type": "code",
      "source": [
        "cm = confusion_matrix (Y1_test, prediction)\n",
        "print(cm)\n",
        "\n",
        "print(accuracy_score(Y1_test, prediction))"
      ],
      "metadata": {
        "colab": {
          "base_uri": "https://localhost:8080/"
        },
        "id": "8wyCkLdXXR03",
        "outputId": "c1bc2f5a-402c-4535-d82a-34c7a262a42d"
      },
      "execution_count": null,
      "outputs": [
        {
          "output_type": "stream",
          "name": "stdout",
          "text": [
            "[[1 1]\n",
            " [2 0]]\n",
            "0.25\n"
          ]
        }
      ]
    }
  ]
}