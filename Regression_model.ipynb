{
  "nbformat": 4,
  "nbformat_minor": 0,
  "metadata": {
    "colab": {
      "name": "Fahad_ Regression_model.ipynb",
      "provenance": [],
      "collapsed_sections": [],
      "authorship_tag": "ABX9TyOxpgmWRx7YmztENnok/y/j",
      "include_colab_link": true
    },
    "kernelspec": {
      "name": "python3",
      "display_name": "Python 3"
    },
    "language_info": {
      "name": "python"
    }
  },
  "cells": [
    {
      "cell_type": "markdown",
      "metadata": {
        "id": "view-in-github",
        "colab_type": "text"
      },
      "source": [
        "<a href=\"https://colab.research.google.com/github/Fahadul101/Term_Project_Statistics-for-Data-Science/blob/main/Regression_model.ipynb\" target=\"_parent\"><img src=\"https://colab.research.google.com/assets/colab-badge.svg\" alt=\"Open In Colab\"/></a>"
      ]
    },
    {
      "cell_type": "code",
      "execution_count": null,
      "metadata": {
        "id": "vQx7F_M49uqw"
      },
      "outputs": [],
      "source": [
        "import numpy as np\n",
        "import pandas as pd\n",
        "import seaborn as sns\n",
        "import matplotlib.pyplot as plt\n",
        "%matplotlib inline\n",
        "from math import pi"
      ]
    },
    {
      "cell_type": "code",
      "source": [
        "df = pd.read_csv('covid_dataset.csv')\n",
        "print(type(df))\n",
        "print(df)"
      ],
      "metadata": {
        "colab": {
          "base_uri": "https://localhost:8080/"
        },
        "id": "uRNtF6RgAN3J",
        "outputId": "c7fa0fd9-494d-4881-952a-4f54504b786a"
      },
      "execution_count": null,
      "outputs": [
        {
          "output_type": "stream",
          "name": "stdout",
          "text": [
            "<class 'pandas.core.frame.DataFrame'>\n",
            "                  Day  Lab Test  Confirmed case  Death Case\n",
            "0       2020-April-04       434               9           2\n",
            "1       2020-April-05       367              18           1\n",
            "2       2020-April-06       468              35           3\n",
            "3       2020-April-07       679              41           5\n",
            "4       2020-April-08       981              54           3\n",
            "..                ...       ...             ...         ...\n",
            "621  2021-December-16     25203             257           3\n",
            "622  2021-December-17     16310             191           2\n",
            "623  2021-December-18     13991             122           4\n",
            "624  2021-December-19     19332             211           1\n",
            "625  2021-December-20     19955             260           2\n",
            "\n",
            "[626 rows x 4 columns]\n"
          ]
        }
      ]
    },
    {
      "cell_type": "code",
      "source": [
        "x=df.drop(['Day','Death Case'], axis=1).values\n",
        "y=df.drop(['Day','Lab Test','Confirmed case'],  axis=1).values\n"
      ],
      "metadata": {
        "id": "uQAAFDmRBQqS"
      },
      "execution_count": null,
      "outputs": []
    },
    {
      "cell_type": "code",
      "source": [
        "# x = X1.reshape(-1,1)\n",
        "# y = Y1.reshape(-1,1)"
      ],
      "metadata": {
        "id": "9x0dU8QkU5El"
      },
      "execution_count": null,
      "outputs": []
    },
    {
      "cell_type": "code",
      "source": [
        "print(x)"
      ],
      "metadata": {
        "colab": {
          "base_uri": "https://localhost:8080/"
        },
        "id": "QYZV_1IRCbct",
        "outputId": "53afdc15-fa24-4096-ba98-fd64a8205922"
      },
      "execution_count": null,
      "outputs": [
        {
          "output_type": "stream",
          "name": "stdout",
          "text": [
            "[[  434     9]\n",
            " [  367    18]\n",
            " [  468    35]\n",
            " ...\n",
            " [13991   122]\n",
            " [19332   211]\n",
            " [19955   260]]\n"
          ]
        }
      ]
    },
    {
      "cell_type": "code",
      "source": [
        "print(y)"
      ],
      "metadata": {
        "colab": {
          "base_uri": "https://localhost:8080/"
        },
        "id": "dQQLfMeBCjY4",
        "outputId": "eb5cb316-4013-42d7-c436-6f3033b9ddcf"
      },
      "execution_count": null,
      "outputs": [
        {
          "output_type": "stream",
          "name": "stdout",
          "text": [
            "[[  2]\n",
            " [  1]\n",
            " [  3]\n",
            " [  5]\n",
            " [  3]\n",
            " [  1]\n",
            " [  6]\n",
            " [  3]\n",
            " [  4]\n",
            " [  5]\n",
            " [  7]\n",
            " [  4]\n",
            " [ 10]\n",
            " [ 15]\n",
            " [  9]\n",
            " [  7]\n",
            " [ 10]\n",
            " [  9]\n",
            " [ 10]\n",
            " [  7]\n",
            " [  4]\n",
            " [  9]\n",
            " [  5]\n",
            " [  7]\n",
            " [  3]\n",
            " [  8]\n",
            " [  5]\n",
            " [  2]\n",
            " [  5]\n",
            " [  2]\n",
            " [  5]\n",
            " [  1]\n",
            " [  3]\n",
            " [ 13]\n",
            " [  7]\n",
            " [  8]\n",
            " [ 14]\n",
            " [ 11]\n",
            " [ 11]\n",
            " [ 19]\n",
            " [ 14]\n",
            " [ 15]\n",
            " [ 16]\n",
            " [ 14]\n",
            " [ 21]\n",
            " [ 21]\n",
            " [ 16]\n",
            " [ 22]\n",
            " [ 24]\n",
            " [ 20]\n",
            " [ 28]\n",
            " [ 21]\n",
            " [ 21]\n",
            " [ 22]\n",
            " [ 15]\n",
            " [ 23]\n",
            " [ 28]\n",
            " [ 40]\n",
            " [ 22]\n",
            " [ 37]\n",
            " [ 37]\n",
            " [ 35]\n",
            " [ 30]\n",
            " [ 35]\n",
            " [ 42]\n",
            " [ 42]\n",
            " [ 45]\n",
            " [ 37]\n",
            " [ 37]\n",
            " [ 46]\n",
            " [ 44]\n",
            " [ 32]\n",
            " [ 38]\n",
            " [ 53]\n",
            " [ 43]\n",
            " [ 38]\n",
            " [ 45]\n",
            " [ 37]\n",
            " [ 39]\n",
            " [ 38]\n",
            " [ 43]\n",
            " [ 37]\n",
            " [ 39]\n",
            " [ 40]\n",
            " [ 34]\n",
            " [ 43]\n",
            " [ 45]\n",
            " [ 64]\n",
            " [ 41]\n",
            " [ 38]\n",
            " [ 42]\n",
            " [ 29]\n",
            " [ 55]\n",
            " [ 44]\n",
            " [ 55]\n",
            " [ 46]\n",
            " [ 41]\n",
            " [ 37]\n",
            " [ 30]\n",
            " [ 47]\n",
            " [ 39]\n",
            " [ 33]\n",
            " [ 33]\n",
            " [ 39]\n",
            " [ 51]\n",
            " [ 34]\n",
            " [ 37]\n",
            " [ 50]\n",
            " [ 41]\n",
            " [ 42]\n",
            " [ 50]\n",
            " [ 35]\n",
            " [ 38]\n",
            " [ 54]\n",
            " [ 37]\n",
            " [ 35]\n",
            " [ 35]\n",
            " [ 48]\n",
            " [ 28]\n",
            " [ 21]\n",
            " [ 22]\n",
            " [ 30]\n",
            " [ 50]\n",
            " [ 33]\n",
            " [ 39]\n",
            " [ 27]\n",
            " [ 32]\n",
            " [ 34]\n",
            " [ 39]\n",
            " [ 33]\n",
            " [ 42]\n",
            " [ 44]\n",
            " [ 34]\n",
            " [ 34]\n",
            " [ 32]\n",
            " [ 37]\n",
            " [ 46]\n",
            " [ 41]\n",
            " [ 41]\n",
            " [ 39]\n",
            " [ 46]\n",
            " [ 34]\n",
            " [ 42]\n",
            " [ 45]\n",
            " [ 54]\n",
            " [ 45]\n",
            " [ 47]\n",
            " [ 32]\n",
            " [ 42]\n",
            " [ 33]\n",
            " [ 35]\n",
            " [ 35]\n",
            " [ 32]\n",
            " [ 29]\n",
            " [ 35]\n",
            " [ 32]\n",
            " [ 37]\n",
            " [ 36]\n",
            " [ 41]\n",
            " [ 41]\n",
            " [ 34]\n",
            " [ 34]\n",
            " [ 31]\n",
            " [ 26]\n",
            " [ 43]\n",
            " [ 21]\n",
            " [ 36]\n",
            " [ 22]\n",
            " [ 32]\n",
            " [ 26]\n",
            " [ 40]\n",
            " [ 28]\n",
            " [ 37]\n",
            " [ 28]\n",
            " [ 21]\n",
            " [ 36]\n",
            " [ 32]\n",
            " [ 32]\n",
            " [ 26]\n",
            " [ 32]\n",
            " [ 21]\n",
            " [ 33]\n",
            " [ 20]\n",
            " [ 23]\n",
            " [ 27]\n",
            " [ 30]\n",
            " [ 35]\n",
            " [ 20]\n",
            " [ 17]\n",
            " [ 23]\n",
            " [ 24]\n",
            " [ 31]\n",
            " [ 22]\n",
            " [ 16]\n",
            " [ 15]\n",
            " [ 15]\n",
            " [ 23]\n",
            " [ 14]\n",
            " [ 21]\n",
            " [ 18]\n",
            " [ 24]\n",
            " [ 24]\n",
            " [ 14]\n",
            " [ 19]\n",
            " [ 23]\n",
            " [ 15]\n",
            " [ 20]\n",
            " [ 23]\n",
            " [ 25]\n",
            " [ 19]\n",
            " [ 18]\n",
            " [ 18]\n",
            " [ 25]\n",
            " [ 17]\n",
            " [ 21]\n",
            " [ 17]\n",
            " [ 15]\n",
            " [ 13]\n",
            " [ 18]\n",
            " [ 25]\n",
            " [ 16]\n",
            " [ 19]\n",
            " [ 13]\n",
            " [ 19]\n",
            " [ 14]\n",
            " [ 21]\n",
            " [ 21]\n",
            " [ 39]\n",
            " [ 21]\n",
            " [ 30]\n",
            " [ 17]\n",
            " [ 28]\n",
            " [ 38]\n",
            " [ 28]\n",
            " [ 32]\n",
            " [ 39]\n",
            " [ 37]\n",
            " [ 20]\n",
            " [ 36]\n",
            " [ 29]\n",
            " [ 35]\n",
            " [ 31]\n",
            " [ 38]\n",
            " [ 35]\n",
            " [ 24]\n",
            " [ 35]\n",
            " [ 31]\n",
            " [ 36]\n",
            " [ 32]\n",
            " [ 24]\n",
            " [ 37]\n",
            " [ 19]\n",
            " [ 34]\n",
            " [ 32]\n",
            " [ 37]\n",
            " [ 40]\n",
            " [ 27]\n",
            " [ 36]\n",
            " [ 25]\n",
            " [ 25]\n",
            " [ 38]\n",
            " [ 32]\n",
            " [ 17]\n",
            " [ 30]\n",
            " [ 19]\n",
            " [ 20]\n",
            " [ 30]\n",
            " [ 24]\n",
            " [ 27]\n",
            " [ 30]\n",
            " [ 22]\n",
            " [ 28]\n",
            " [ 17]\n",
            " [ 23]\n",
            " [ 27]\n",
            " [ 24]\n",
            " [ 20]\n",
            " [ 17]\n",
            " [ 31]\n",
            " [ 16]\n",
            " [ 22]\n",
            " [ 25]\n",
            " [ 22]\n",
            " [ 16]\n",
            " [ 14]\n",
            " [ 16]\n",
            " [ 13]\n",
            " [ 21]\n",
            " [ 23]\n",
            " [ 16]\n",
            " [ 20]\n",
            " [  8]\n",
            " [ 16]\n",
            " [ 15]\n",
            " [ 22]\n",
            " [ 20]\n",
            " [ 18]\n",
            " [ 14]\n",
            " [ 17]\n",
            " [ 15]\n",
            " [  7]\n",
            " [ 17]\n",
            " [ 16]\n",
            " [ 10]\n",
            " [ 12]\n",
            " [ 13]\n",
            " [ 13]\n",
            " [  7]\n",
            " [  8]\n",
            " [ 15]\n",
            " [ 16]\n",
            " [  8]\n",
            " [ 10]\n",
            " [  9]\n",
            " [  5]\n",
            " [ 13]\n",
            " [  8]\n",
            " [ 11]\n",
            " [ 13]\n",
            " [ 16]\n",
            " [ 15]\n",
            " [  8]\n",
            " [  5]\n",
            " [  7]\n",
            " [  7]\n",
            " [ 18]\n",
            " [  5]\n",
            " [  5]\n",
            " [ 11]\n",
            " [  5]\n",
            " [  8]\n",
            " [  8]\n",
            " [  7]\n",
            " [  5]\n",
            " [  7]\n",
            " [  6]\n",
            " [ 10]\n",
            " [ 11]\n",
            " [ 14]\n",
            " [ 13]\n",
            " [  7]\n",
            " [  6]\n",
            " [ 13]\n",
            " [ 12]\n",
            " [ 18]\n",
            " [ 26]\n",
            " [ 26]\n",
            " [ 11]\n",
            " [ 16]\n",
            " [ 18]\n",
            " [ 26]\n",
            " [ 22]\n",
            " [ 30]\n",
            " [ 18]\n",
            " [ 25]\n",
            " [ 34]\n",
            " [ 33]\n",
            " [ 39]\n",
            " [ 35]\n",
            " [ 45]\n",
            " [ 45]\n",
            " [ 52]\n",
            " [ 59]\n",
            " [ 50]\n",
            " [ 58]\n",
            " [ 53]\n",
            " [ 52]\n",
            " [ 66]\n",
            " [ 63]\n",
            " [ 74]\n",
            " [ 63]\n",
            " [ 77]\n",
            " [ 78]\n",
            " [ 83]\n",
            " [ 69]\n",
            " [ 96]\n",
            " [ 94]\n",
            " [101]\n",
            " [101]\n",
            " [102]\n",
            " [112]\n",
            " [ 91]\n",
            " [ 95]\n",
            " [ 98]\n",
            " [ 88]\n",
            " [ 83]\n",
            " [101]\n",
            " [ 97]\n",
            " [ 78]\n",
            " [ 77]\n",
            " [ 88]\n",
            " [ 57]\n",
            " [ 60]\n",
            " [ 69]\n",
            " [ 65]\n",
            " [ 61]\n",
            " [ 50]\n",
            " [ 41]\n",
            " [ 37]\n",
            " [ 45]\n",
            " [ 56]\n",
            " [ 38]\n",
            " [ 33]\n",
            " [ 40]\n",
            " [ 31]\n",
            " [ 26]\n",
            " [ 22]\n",
            " [ 25]\n",
            " [ 32]\n",
            " [ 30]\n",
            " [ 37]\n",
            " [ 36]\n",
            " [ 26]\n",
            " [ 38]\n",
            " [ 28]\n",
            " [ 25]\n",
            " [ 40]\n",
            " [ 17]\n",
            " [ 22]\n",
            " [ 31]\n",
            " [ 38]\n",
            " [ 34]\n",
            " [ 36]\n",
            " [ 41]\n",
            " [ 34]\n",
            " [ 30]\n",
            " [ 34]\n",
            " [ 43]\n",
            " [ 38]\n",
            " [ 30]\n",
            " [ 44]\n",
            " [ 36]\n",
            " [ 40]\n",
            " [ 43]\n",
            " [ 39]\n",
            " [ 47]\n",
            " [ 54]\n",
            " [ 50]\n",
            " [ 60]\n",
            " [ 63]\n",
            " [ 54]\n",
            " [ 67]\n",
            " [ 82]\n",
            " [ 78]\n",
            " [ 76]\n",
            " [ 85]\n",
            " [ 81]\n",
            " [108]\n",
            " [ 77]\n",
            " [119]\n",
            " [104]\n",
            " [112]\n",
            " [115]\n",
            " [143]\n",
            " [132]\n",
            " [134]\n",
            " [153]\n",
            " [164]\n",
            " [163]\n",
            " [201]\n",
            " [199]\n",
            " [212]\n",
            " [185]\n",
            " [230]\n",
            " [220]\n",
            " [203]\n",
            " [210]\n",
            " [226]\n",
            " [187]\n",
            " [204]\n",
            " [225]\n",
            " [231]\n",
            " [200]\n",
            " [173]\n",
            " [187]\n",
            " [166]\n",
            " [195]\n",
            " [228]\n",
            " [247]\n",
            " [258]\n",
            " [237]\n",
            " [239]\n",
            " [212]\n",
            " [218]\n",
            " [231]\n",
            " [246]\n",
            " [235]\n",
            " [241]\n",
            " [264]\n",
            " [248]\n",
            " [261]\n",
            " [241]\n",
            " [245]\n",
            " [264]\n",
            " [237]\n",
            " [215]\n",
            " [197]\n",
            " [178]\n",
            " [187]\n",
            " [174]\n",
            " [198]\n",
            " [172]\n",
            " [159]\n",
            " [145]\n",
            " [120]\n",
            " [139]\n",
            " [117]\n",
            " [114]\n",
            " [114]\n",
            " [102]\n",
            " [117]\n",
            " [ 80]\n",
            " [ 89]\n",
            " [ 94]\n",
            " [ 86]\n",
            " [ 79]\n",
            " [ 88]\n",
            " [ 70]\n",
            " [ 61]\n",
            " [ 70]\n",
            " [ 65]\n",
            " [ 56]\n",
            " [ 52]\n",
            " [ 58]\n",
            " [ 38]\n",
            " [ 48]\n",
            " [ 51]\n",
            " [ 41]\n",
            " [ 35]\n",
            " [ 51]\n",
            " [ 51]\n",
            " [ 38]\n",
            " [ 35]\n",
            " [ 43]\n",
            " [ 26]\n",
            " [ 26]\n",
            " [ 36]\n",
            " [ 24]\n",
            " [ 31]\n",
            " [ 25]\n",
            " [ 21]\n",
            " [ 25]\n",
            " [ 31]\n",
            " [ 17]\n",
            " [ 23]\n",
            " [ 21]\n",
            " [ 24]\n",
            " [ 18]\n",
            " [ 18]\n",
            " [ 23]\n",
            " [ 21]\n",
            " [ 12]\n",
            " [  7]\n",
            " [ 20]\n",
            " [ 14]\n",
            " [ 11]\n",
            " [ 14]\n",
            " [ 17]\n",
            " [  7]\n",
            " [  9]\n",
            " [  6]\n",
            " [ 16]\n",
            " [ 10]\n",
            " [  7]\n",
            " [  6]\n",
            " [ 10]\n",
            " [  4]\n",
            " [  9]\n",
            " [  9]\n",
            " [  5]\n",
            " [  6]\n",
            " [  7]\n",
            " [  6]\n",
            " [  7]\n",
            " [  8]\n",
            " [  6]\n",
            " [  2]\n",
            " [  3]\n",
            " [  7]\n",
            " [  7]\n",
            " [  3]\n",
            " [  1]\n",
            " [  4]\n",
            " [  6]\n",
            " [  3]\n",
            " [  2]\n",
            " [  1]\n",
            " [  5]\n",
            " [  6]\n",
            " [  4]\n",
            " [  4]\n",
            " [  2]\n",
            " [  6]\n",
            " [  7]\n",
            " [  0]\n",
            " [  5]\n",
            " [  7]\n",
            " [  2]\n",
            " [  3]\n",
            " [  3]\n",
            " [  9]\n",
            " [  3]\n",
            " [  2]\n",
            " [  3]\n",
            " [  2]\n",
            " [  1]\n",
            " [  2]\n",
            " [  3]\n",
            " [  3]\n",
            " [  6]\n",
            " [  6]\n",
            " [  4]\n",
            " [  5]\n",
            " [  6]\n",
            " [  0]\n",
            " [  1]\n",
            " [  5]\n",
            " [  6]\n",
            " [  3]\n",
            " [  3]\n",
            " [  4]\n",
            " [  3]\n",
            " [  2]\n",
            " [  4]\n",
            " [  1]\n",
            " [  2]]\n"
          ]
        }
      ]
    },
    {
      "cell_type": "code",
      "source": [
        "from sklearn.model_selection import train_test_split\n",
        "X_train,X_test,Y_train,Y_test = train_test_split(x,y,test_size=0.2, random_state=0)"
      ],
      "metadata": {
        "id": "ZGGbTpP2Clzk"
      },
      "execution_count": null,
      "outputs": []
    },
    {
      "cell_type": "code",
      "source": [
        "from sklearn.linear_model import LinearRegression\n",
        "mdl = LinearRegression()\n",
        "mdl.fit(X_train, Y_train)"
      ],
      "metadata": {
        "colab": {
          "base_uri": "https://localhost:8080/"
        },
        "id": "2FJnZkiMEUSr",
        "outputId": "b1429279-e30c-43a7-92d6-b1c9bffe611d"
      },
      "execution_count": null,
      "outputs": [
        {
          "output_type": "execute_result",
          "data": {
            "text/plain": [
              "LinearRegression()"
            ]
          },
          "metadata": {},
          "execution_count": 8
        }
      ]
    },
    {
      "cell_type": "code",
      "source": [
        "y_pred=mdl.predict(X_test)\n",
        "print(y_pred)"
      ],
      "metadata": {
        "colab": {
          "base_uri": "https://localhost:8080/"
        },
        "id": "K2RGF4OOEmmF",
        "outputId": "c3b520c0-7a6c-49c1-8703-ceb8569c15dd"
      },
      "execution_count": null,
      "outputs": [
        {
          "output_type": "stream",
          "name": "stdout",
          "text": [
            "[[ 6.98190579e+01]\n",
            " [ 1.12955423e+01]\n",
            " [ 3.10076221e+01]\n",
            " [ 1.05319819e+01]\n",
            " [ 3.55262771e+01]\n",
            " [ 1.50370708e+01]\n",
            " [ 3.76098927e+01]\n",
            " [ 1.05041270e+02]\n",
            " [ 1.73510770e+01]\n",
            " [ 2.85854997e+01]\n",
            " [ 2.26080647e+01]\n",
            " [ 5.83983184e+01]\n",
            " [ 3.91570273e+01]\n",
            " [ 6.46503800e+01]\n",
            " [ 1.47863708e+01]\n",
            " [ 1.06974375e+02]\n",
            " [ 2.61430008e+01]\n",
            " [ 5.46020083e+01]\n",
            " [ 1.93866695e+01]\n",
            " [ 1.80938199e+02]\n",
            " [ 2.74942373e+01]\n",
            " [ 2.42138313e+01]\n",
            " [ 6.90672647e+01]\n",
            " [ 1.19779316e+02]\n",
            " [ 2.32528870e+01]\n",
            " [ 2.10766807e+02]\n",
            " [ 2.25799291e+01]\n",
            " [ 4.13460962e+01]\n",
            " [ 2.61673608e+01]\n",
            " [ 3.83674229e+01]\n",
            " [ 2.68365452e+01]\n",
            " [ 2.20236621e+01]\n",
            " [ 1.95502003e+01]\n",
            " [ 8.09484811e+00]\n",
            " [ 2.03543171e+00]\n",
            " [ 2.49239312e+01]\n",
            " [ 1.59581487e+02]\n",
            " [ 2.16064467e+01]\n",
            " [ 2.96964760e+01]\n",
            " [ 4.44228338e+01]\n",
            " [ 9.31249302e+00]\n",
            " [ 6.70017142e+00]\n",
            " [ 1.53925221e+02]\n",
            " [ 6.58029948e+00]\n",
            " [ 2.60336475e+02]\n",
            " [ 5.30570674e+01]\n",
            " [ 9.46794144e+01]\n",
            " [ 6.44773629e+01]\n",
            " [ 4.14534705e+01]\n",
            " [-5.34903641e-01]\n",
            " [ 3.28179611e+01]\n",
            " [ 2.50251557e+01]\n",
            " [ 6.36738970e+01]\n",
            " [ 3.17771835e+01]\n",
            " [ 1.23636984e+02]\n",
            " [-6.18974467e+00]\n",
            " [ 4.67135039e+01]\n",
            " [ 4.00849347e+01]\n",
            " [ 2.46551361e+01]\n",
            " [ 3.32202260e+01]\n",
            " [ 1.37885307e+01]\n",
            " [ 2.77008725e+01]\n",
            " [ 1.20223577e+01]\n",
            " [ 1.05062265e+01]\n",
            " [ 9.75416970e+00]\n",
            " [ 9.05608805e+01]\n",
            " [-3.65066508e+00]\n",
            " [ 2.76967561e+01]\n",
            " [ 1.99148954e+01]\n",
            " [ 3.46941771e-01]\n",
            " [ 2.90756708e+01]\n",
            " [ 2.87547317e+01]\n",
            " [ 2.59489896e+01]\n",
            " [ 2.56985513e+01]\n",
            " [ 1.82285268e+01]\n",
            " [ 4.09176861e+01]\n",
            " [ 2.76823624e+01]\n",
            " [ 1.34720887e+01]\n",
            " [ 4.59525735e+00]\n",
            " [ 1.42223672e+01]\n",
            " [ 1.29710364e+01]\n",
            " [ 2.92118549e+01]\n",
            " [ 2.57067348e+02]\n",
            " [ 8.32220502e+00]\n",
            " [ 2.13531683e+02]\n",
            " [ 4.47464623e+01]\n",
            " [ 1.70863108e+02]\n",
            " [ 1.17692212e+01]\n",
            " [ 2.13889795e+01]\n",
            " [ 7.62712986e+00]\n",
            " [ 2.51222571e+01]\n",
            " [ 7.15812653e+00]\n",
            " [ 4.91123348e+01]\n",
            " [-5.75910018e-02]\n",
            " [ 3.79476420e+01]\n",
            " [ 6.35706134e+00]\n",
            " [ 1.10462490e+01]\n",
            " [ 2.30983195e+01]\n",
            " [ 4.25973866e+01]\n",
            " [ 9.35794876e+00]\n",
            " [ 2.67559519e+01]\n",
            " [ 1.51006844e+01]\n",
            " [ 5.14694188e+01]\n",
            " [ 5.86265542e+01]\n",
            " [ 1.44769689e+01]\n",
            " [ 5.24232573e+01]\n",
            " [ 7.59419578e+01]\n",
            " [ 4.17237738e+01]\n",
            " [ 4.52509640e+01]\n",
            " [ 4.28966168e+01]\n",
            " [ 1.01714506e+01]\n",
            " [ 2.50547952e+01]\n",
            " [ 6.73218383e+01]\n",
            " [ 2.74250553e+01]\n",
            " [ 2.04559053e+02]\n",
            " [-8.67683238e-02]\n",
            " [ 1.36838033e+02]\n",
            " [ 8.53768134e+00]\n",
            " [ 1.84316882e+01]\n",
            " [-4.45433842e+00]\n",
            " [ 2.14134776e+02]\n",
            " [ 2.00586268e+01]\n",
            " [ 1.12751113e+02]\n",
            " [ 6.33006179e+01]\n",
            " [-2.18033658e+00]\n",
            " [ 1.05817498e+01]]\n"
          ]
        }
      ]
    },
    {
      "cell_type": "code",
      "source": [
        "from sklearn.metrics import r2_score\n",
        "r2_score(Y_test,y_pred)"
      ],
      "metadata": {
        "colab": {
          "base_uri": "https://localhost:8080/"
        },
        "id": "eBxMdSlJFQj9",
        "outputId": "c6c95d43-c963-49c1-dd95-35418a48233a"
      },
      "execution_count": null,
      "outputs": [
        {
          "output_type": "execute_result",
          "data": {
            "text/plain": [
              "0.8693318657516167"
            ]
          },
          "metadata": {},
          "execution_count": 13
        }
      ]
    },
    {
      "cell_type": "code",
      "source": [
        "import plotly.express as px\n",
        "import plotly.graph_objects as go\n",
        "import plotly.figure_factory as ff\n",
        "from plotly.subplots import make_subplots\n",
        "import plotly.express as px \n",
        "import plotly.offline as py"
      ],
      "metadata": {
        "id": "zDf7IHMiF6u0"
      },
      "execution_count": null,
      "outputs": []
    },
    {
      "cell_type": "code",
      "source": [
        "plt.figure(figsize=(10,15))\n",
        "plt.scatter(Y_test, y_pred)\n",
        "\n",
        "plt.xlabel('Actual')\n",
        "plt.ylabel('Predicted')\n",
        "plt.title('Actual vs Predicted')"
      ],
      "metadata": {
        "colab": {
          "base_uri": "https://localhost:8080/",
          "height": 910
        },
        "id": "Oqw1DAw7GItK",
        "outputId": "06cd19cb-0da2-41d5-8da5-cf73f9ea93d5"
      },
      "execution_count": null,
      "outputs": [
        {
          "output_type": "execute_result",
          "data": {
            "text/plain": [
              "Text(0.5, 1.0, 'Actual vs Predicted')"
            ]
          },
          "metadata": {},
          "execution_count": 15
        },
        {
          "output_type": "display_data",
          "data": {
            "image/png": "[encoded data removed]",
            "text/plain": [
              "<Figure size 720x1080 with 1 Axes>"
            ]
          },
          "metadata": {
            "needs_background": "light"
          }
        }
      ]
    },
    {
      "cell_type": "code",
      "source": [
        "Y_test.shape"
      ],
      "metadata": {
        "colab": {
          "base_uri": "https://localhost:8080/"
        },
        "id": "tFdOkPE0WjVr",
        "outputId": "f26f7c18-bee4-4b9b-cfea-45c1c9a3476a"
      },
      "execution_count": null,
      "outputs": [
        {
          "output_type": "execute_result",
          "data": {
            "text/plain": [
              "(126, 1)"
            ]
          },
          "metadata": {},
          "execution_count": 64
        }
      ]
    },
    {
      "cell_type": "code",
      "source": [
        "y_pred.shape"
      ],
      "metadata": {
        "colab": {
          "base_uri": "https://localhost:8080/"
        },
        "id": "BWrxhhQYXUIC",
        "outputId": "5a517798-1d3b-4cdd-d19d-7f8ac4b3088e"
      },
      "execution_count": null,
      "outputs": [
        {
          "output_type": "execute_result",
          "data": {
            "text/plain": [
              "(126, 1)"
            ]
          },
          "metadata": {},
          "execution_count": 65
        }
      ]
    },
    {
      "cell_type": "code",
      "source": [
        "compare_df = pd.DataFrame({'Actual Value':Y_test.flatten(), 'Predicted Value':y_pred.flatten(),})\n",
        "compare_df[0:20]"
      ],
      "metadata": {
        "colab": {
          "base_uri": "https://localhost:8080/",
          "height": 677
        },
        "id": "YL3X30OdHcHz",
        "outputId": "3f34d92d-05fc-40c9-90dc-599a51fc7f79"
      },
      "execution_count": null,
      "outputs": [
        {
          "output_type": "execute_result",
          "data": {
            "text/html": [
              "\n",
              "  <div id=\"df-a1adabde-979e-4b87-9353-566b928cbd62\">\n",
              "    <div class=\"colab-df-container\">\n",
              "      <div>\n",
              "<style scoped>\n",
              "    .dataframe tbody tr th:only-of-type {\n",
              "        vertical-align: middle;\n",
              "    }\n",
              "\n",
              "    .dataframe tbody tr th {\n",
              "        vertical-align: top;\n",
              "    }\n",
              "\n",
              "    .dataframe thead th {\n",
              "        text-align: right;\n",
              "    }\n",
              "</style>\n",
              "<table border=\"1\" class=\"dataframe\">\n",
              "  <thead>\n",
              "    <tr style=\"text-align: right;\">\n",
              "      <th></th>\n",
              "      <th>Actual Value</th>\n",
              "      <th>Predicted Value</th>\n",
              "    </tr>\n",
              "  </thead>\n",
              "  <tbody>\n",
              "    <tr>\n",
              "      <th>0</th>\n",
              "      <td>33</td>\n",
              "      <td>69.819058</td>\n",
              "    </tr>\n",
              "    <tr>\n",
              "      <th>1</th>\n",
              "      <td>15</td>\n",
              "      <td>11.295542</td>\n",
              "    </tr>\n",
              "    <tr>\n",
              "      <th>2</th>\n",
              "      <td>30</td>\n",
              "      <td>31.007622</td>\n",
              "    </tr>\n",
              "    <tr>\n",
              "      <th>3</th>\n",
              "      <td>9</td>\n",
              "      <td>10.531982</td>\n",
              "    </tr>\n",
              "    <tr>\n",
              "      <th>4</th>\n",
              "      <td>30</td>\n",
              "      <td>35.526277</td>\n",
              "    </tr>\n",
              "    <tr>\n",
              "      <th>5</th>\n",
              "      <td>21</td>\n",
              "      <td>15.037071</td>\n",
              "    </tr>\n",
              "    <tr>\n",
              "      <th>6</th>\n",
              "      <td>39</td>\n",
              "      <td>37.609893</td>\n",
              "    </tr>\n",
              "    <tr>\n",
              "      <th>7</th>\n",
              "      <td>134</td>\n",
              "      <td>105.041270</td>\n",
              "    </tr>\n",
              "    <tr>\n",
              "      <th>8</th>\n",
              "      <td>18</td>\n",
              "      <td>17.351077</td>\n",
              "    </tr>\n",
              "    <tr>\n",
              "      <th>9</th>\n",
              "      <td>17</td>\n",
              "      <td>28.585500</td>\n",
              "    </tr>\n",
              "    <tr>\n",
              "      <th>10</th>\n",
              "      <td>18</td>\n",
              "      <td>22.608065</td>\n",
              "    </tr>\n",
              "    <tr>\n",
              "      <th>11</th>\n",
              "      <td>187</td>\n",
              "      <td>58.398318</td>\n",
              "    </tr>\n",
              "    <tr>\n",
              "      <th>12</th>\n",
              "      <td>34</td>\n",
              "      <td>39.157027</td>\n",
              "    </tr>\n",
              "    <tr>\n",
              "      <th>13</th>\n",
              "      <td>43</td>\n",
              "      <td>64.650380</td>\n",
              "    </tr>\n",
              "    <tr>\n",
              "      <th>14</th>\n",
              "      <td>16</td>\n",
              "      <td>14.786371</td>\n",
              "    </tr>\n",
              "    <tr>\n",
              "      <th>15</th>\n",
              "      <td>117</td>\n",
              "      <td>106.974375</td>\n",
              "    </tr>\n",
              "    <tr>\n",
              "      <th>16</th>\n",
              "      <td>18</td>\n",
              "      <td>26.143001</td>\n",
              "    </tr>\n",
              "    <tr>\n",
              "      <th>17</th>\n",
              "      <td>54</td>\n",
              "      <td>54.602008</td>\n",
              "    </tr>\n",
              "    <tr>\n",
              "      <th>18</th>\n",
              "      <td>31</td>\n",
              "      <td>19.386670</td>\n",
              "    </tr>\n",
              "    <tr>\n",
              "      <th>19</th>\n",
              "      <td>215</td>\n",
              "      <td>180.938199</td>\n",
              "    </tr>\n",
              "  </tbody>\n",
              "</table>\n",
              "</div>\n",
              "      <button class=\"colab-df-convert\" onclick=\"convertToInteractive('df-a1adabde-979e-4b87-9353-566b928cbd62')\"\n",
              "              title=\"Convert this dataframe to an interactive table.\"\n",
              "              style=\"display:none;\">\n",
              "        \n",
              "  <svg xmlns=\"http://www.w3.org/2000/svg\" height=\"24px\"viewBox=\"0 0 24 24\"\n",
              "       width=\"24px\">\n",
              "    <path d=\"M0 0h24v24H0V0z\" fill=\"none\"/>\n",
              "    <path d=\"M18.56 5.44l.94 2.06.94-2.06 2.06-.94-2.06-.94-.94-2.06-.94 2.06-2.06.94zm-11 1L8.5 8.5l.94-2.06 2.06-.94-2.06-.94L8.5 2.5l-.94 2.06-2.06.94zm10 10l.94 2.06.94-2.06 2.06-.94-2.06-.94-.94-2.06-.94 2.06-2.06.94z\"/><path d=\"M17.41 7.96l-1.37-1.37c-.4-.4-.92-.59-1.43-.59-.52 0-1.04.2-1.43.59L10.3 9.45l-7.72 7.72c-.78.78-.78 2.05 0 2.83L4 21.41c.39.39.9.59 1.41.59.51 0 1.02-.2 1.41-.59l7.78-7.78 2.81-2.81c.8-.78.8-2.07 0-2.86zM5.41 20L4 18.59l7.72-7.72 1.47 1.35L5.41 20z\"/>\n",
              "  </svg>\n",
              "      </button>\n",
              "      \n",
              "  <style>\n",
              "    .colab-df-container {\n",
              "      display:flex;\n",
              "      flex-wrap:wrap;\n",
              "      gap: 12px;\n",
              "    }\n",
              "\n",
              "    .colab-df-convert {\n",
              "      background-color: #E8F0FE;\n",
              "      border: none;\n",
              "      border-radius: 50%;\n",
              "      cursor: pointer;\n",
              "      display: none;\n",
              "      fill: #1967D2;\n",
              "      height: 32px;\n",
              "      padding: 0 0 0 0;\n",
              "      width: 32px;\n",
              "    }\n",
              "\n",
              "    .colab-df-convert:hover {\n",
              "      background-color: #E2EBFA;\n",
              "      box-shadow: 0px 1px 2px rgba(60, 64, 67, 0.3), 0px 1px 3px 1px rgba(60, 64, 67, 0.15);\n",
              "      fill: #174EA6;\n",
              "    }\n",
              "\n",
              "    [theme=dark] .colab-df-convert {\n",
              "      background-color: #3B4455;\n",
              "      fill: #D2E3FC;\n",
              "    }\n",
              "\n",
              "    [theme=dark] .colab-df-convert:hover {\n",
              "      background-color: #434B5C;\n",
              "      box-shadow: 0px 1px 3px 1px rgba(0, 0, 0, 0.15);\n",
              "      filter: drop-shadow(0px 1px 2px rgba(0, 0, 0, 0.3));\n",
              "      fill: #FFFFFF;\n",
              "    }\n",
              "  </style>\n",
              "\n",
              "      <script>\n",
              "        const buttonEl =\n",
              "          document.querySelector('#df-a1adabde-979e-4b87-9353-566b928cbd62 button.colab-df-convert');\n",
              "        buttonEl.style.display =\n",
              "          google.colab.kernel.accessAllowed ? 'block' : 'none';\n",
              "\n",
              "        async function convertToInteractive(key) {\n",
              "          const element = document.querySelector('#df-a1adabde-979e-4b87-9353-566b928cbd62');\n",
              "          const dataTable =\n",
              "            await google.colab.kernel.invokeFunction('convertToInteractive',\n",
              "                                                     [key], {});\n",
              "          if (!dataTable) return;\n",
              "\n",
              "          const docLinkHtml = 'Like what you see? Visit the ' +\n",
              "            '<a target=\"_blank\" href=https://colab.research.google.com/notebooks/data_table.ipynb>data table notebook</a>'\n",
              "            + ' to learn more about interactive tables.';\n",
              "          element.innerHTML = '';\n",
              "          dataTable['output_type'] = 'display_data';\n",
              "          await google.colab.output.renderOutput(dataTable, element);\n",
              "          const docLink = document.createElement('div');\n",
              "          docLink.innerHTML = docLinkHtml;\n",
              "          element.appendChild(docLink);\n",
              "        }\n",
              "      </script>\n",
              "    </div>\n",
              "  </div>\n",
              "  "
            ],
            "text/plain": [
              "    Actual Value  Predicted Value\n",
              "0             33        69.819058\n",
              "1             15        11.295542\n",
              "2             30        31.007622\n",
              "3              9        10.531982\n",
              "4             30        35.526277\n",
              "5             21        15.037071\n",
              "6             39        37.609893\n",
              "7            134       105.041270\n",
              "8             18        17.351077\n",
              "9             17        28.585500\n",
              "10            18        22.608065\n",
              "11           187        58.398318\n",
              "12            34        39.157027\n",
              "13            43        64.650380\n",
              "14            16        14.786371\n",
              "15           117       106.974375\n",
              "16            18        26.143001\n",
              "17            54        54.602008\n",
              "18            31        19.386670\n",
              "19           215       180.938199"
            ]
          },
          "metadata": {},
          "execution_count": 18
        }
      ]
    },
    {
      "cell_type": "code",
      "source": [
        "import numpy as np\n",
        "X = np.asarray(X_train)\n",
        "Y = np.asarray(Y_train)"
      ],
      "metadata": {
        "id": "QA3sjYr_Omn8"
      },
      "execution_count": null,
      "outputs": []
    },
    {
      "cell_type": "code",
      "source": [
        "import statsmodels.api as sm\n",
        "X = sm.add_constant(X)\n",
        "print(X)"
      ],
      "metadata": {
        "colab": {
          "base_uri": "https://localhost:8080/"
        },
        "id": "Fzx66SbCQ1YN",
        "outputId": "e677a7fe-8b71-4296-fcc0-34f425177e9c"
      },
      "execution_count": null,
      "outputs": [
        {
          "output_type": "stream",
          "name": "stdout",
          "text": [
            "[[1.0000e+00 1.4999e+04 3.8800e+02]\n",
            " [1.0000e+00 7.7120e+03 1.9180e+03]\n",
            " [1.0000e+00 1.7100e+04 2.3200e+02]\n",
            " ...\n",
            " [1.0000e+00 2.8195e+04 5.1810e+03]\n",
            " [1.0000e+00 1.3815e+04 1.5370e+03]\n",
            " [1.0000e+00 1.8980e+04 3.9600e+02]]\n"
          ]
        }
      ]
    },
    {
      "cell_type": "code",
      "source": [
        "model = sm.OLS(Y, X)"
      ],
      "metadata": {
        "id": "yB4mk_rFRBZe"
      },
      "execution_count": null,
      "outputs": []
    },
    {
      "cell_type": "code",
      "source": [
        "results = model.fit()"
      ],
      "metadata": {
        "id": "UrQ_m6fqRDpV"
      },
      "execution_count": null,
      "outputs": []
    },
    {
      "cell_type": "code",
      "source": [
        "print(results.summary())"
      ],
      "metadata": {
        "colab": {
          "base_uri": "https://localhost:8080/"
        },
        "id": "XSB55mnZRFtr",
        "outputId": "9152125d-ea6a-40c0-f8b9-f3855ef0430f"
      },
      "execution_count": null,
      "outputs": [
        {
          "output_type": "stream",
          "name": "stdout",
          "text": [
            "                            OLS Regression Results                            \n",
            "==============================================================================\n",
            "Dep. Variable:                      y   R-squared:                       0.872\n",
            "Model:                            OLS   Adj. R-squared:                  0.872\n",
            "Method:                 Least Squares   F-statistic:                     1695.\n",
            "Date:                Sun, 23 Jan 2022   Prob (F-statistic):          1.10e-222\n",
            "Time:                        02:23:04   Log-Likelihood:                -2183.3\n",
            "No. Observations:                 500   AIC:                             4373.\n",
            "Df Residuals:                     497   BIC:                             4385.\n",
            "Df Model:                           2                                         \n",
            "Covariance Type:            nonrobust                                         \n",
            "==============================================================================\n",
            "                 coef    std err          t      P>|t|      [0.025      0.975]\n",
            "------------------------------------------------------------------------------\n",
            "const         -6.7193      2.135     -3.148      0.002     -10.913      -2.525\n",
            "x1             0.0007      0.000      4.463      0.000       0.000       0.001\n",
            "x2             0.0155      0.000     31.868      0.000       0.015       0.016\n",
            "==============================================================================\n",
            "Omnibus:                      106.495   Durbin-Watson:                   2.078\n",
            "Prob(Omnibus):                  0.000   Jarque-Bera (JB):              779.552\n",
            "Skew:                           0.704   Prob(JB):                    5.28e-170\n",
            "Kurtosis:                       8.953   Cond. No.                     5.14e+04\n",
            "==============================================================================\n",
            "\n",
            "Warnings:\n",
            "[1] Standard Errors assume that the covariance matrix of the errors is correctly specified.\n",
            "[2] The condition number is large, 5.14e+04. This might indicate that there are\n",
            "strong multicollinearity or other numerical problems.\n"
          ]
        }
      ]
    },
    {
      "cell_type": "code",
      "source": [
        "compare_df = pd.DataFrame({'Actual':Y_test.flatten(), 'Predicted':y_pred.flatten(),})\n",
        "compare_df[0:20]"
      ],
      "metadata": {
        "colab": {
          "base_uri": "https://localhost:8080/",
          "height": 677
        },
        "id": "cAMWo256Tx4k",
        "outputId": "cbb33951-a1c7-48aa-a95f-7936412f9722"
      },
      "execution_count": null,
      "outputs": [
        {
          "output_type": "execute_result",
          "data": {
            "text/html": [
              "\n",
              "  <div id=\"df-e786c60c-780e-41b6-a31c-6ed0e686adaa\">\n",
              "    <div class=\"colab-df-container\">\n",
              "      <div>\n",
              "<style scoped>\n",
              "    .dataframe tbody tr th:only-of-type {\n",
              "        vertical-align: middle;\n",
              "    }\n",
              "\n",
              "    .dataframe tbody tr th {\n",
              "        vertical-align: top;\n",
              "    }\n",
              "\n",
              "    .dataframe thead th {\n",
              "        text-align: right;\n",
              "    }\n",
              "</style>\n",
              "<table border=\"1\" class=\"dataframe\">\n",
              "  <thead>\n",
              "    <tr style=\"text-align: right;\">\n",
              "      <th></th>\n",
              "      <th>Actual</th>\n",
              "      <th>Predicted</th>\n",
              "    </tr>\n",
              "  </thead>\n",
              "  <tbody>\n",
              "    <tr>\n",
              "      <th>0</th>\n",
              "      <td>33</td>\n",
              "      <td>69.819058</td>\n",
              "    </tr>\n",
              "    <tr>\n",
              "      <th>1</th>\n",
              "      <td>15</td>\n",
              "      <td>11.295542</td>\n",
              "    </tr>\n",
              "    <tr>\n",
              "      <th>2</th>\n",
              "      <td>30</td>\n",
              "      <td>31.007622</td>\n",
              "    </tr>\n",
              "    <tr>\n",
              "      <th>3</th>\n",
              "      <td>9</td>\n",
              "      <td>10.531982</td>\n",
              "    </tr>\n",
              "    <tr>\n",
              "      <th>4</th>\n",
              "      <td>30</td>\n",
              "      <td>35.526277</td>\n",
              "    </tr>\n",
              "    <tr>\n",
              "      <th>5</th>\n",
              "      <td>21</td>\n",
              "      <td>15.037071</td>\n",
              "    </tr>\n",
              "    <tr>\n",
              "      <th>6</th>\n",
              "      <td>39</td>\n",
              "      <td>37.609893</td>\n",
              "    </tr>\n",
              "    <tr>\n",
              "      <th>7</th>\n",
              "      <td>134</td>\n",
              "      <td>105.041270</td>\n",
              "    </tr>\n",
              "    <tr>\n",
              "      <th>8</th>\n",
              "      <td>18</td>\n",
              "      <td>17.351077</td>\n",
              "    </tr>\n",
              "    <tr>\n",
              "      <th>9</th>\n",
              "      <td>17</td>\n",
              "      <td>28.585500</td>\n",
              "    </tr>\n",
              "    <tr>\n",
              "      <th>10</th>\n",
              "      <td>18</td>\n",
              "      <td>22.608065</td>\n",
              "    </tr>\n",
              "    <tr>\n",
              "      <th>11</th>\n",
              "      <td>187</td>\n",
              "      <td>58.398318</td>\n",
              "    </tr>\n",
              "    <tr>\n",
              "      <th>12</th>\n",
              "      <td>34</td>\n",
              "      <td>39.157027</td>\n",
              "    </tr>\n",
              "    <tr>\n",
              "      <th>13</th>\n",
              "      <td>43</td>\n",
              "      <td>64.650380</td>\n",
              "    </tr>\n",
              "    <tr>\n",
              "      <th>14</th>\n",
              "      <td>16</td>\n",
              "      <td>14.786371</td>\n",
              "    </tr>\n",
              "    <tr>\n",
              "      <th>15</th>\n",
              "      <td>117</td>\n",
              "      <td>106.974375</td>\n",
              "    </tr>\n",
              "    <tr>\n",
              "      <th>16</th>\n",
              "      <td>18</td>\n",
              "      <td>26.143001</td>\n",
              "    </tr>\n",
              "    <tr>\n",
              "      <th>17</th>\n",
              "      <td>54</td>\n",
              "      <td>54.602008</td>\n",
              "    </tr>\n",
              "    <tr>\n",
              "      <th>18</th>\n",
              "      <td>31</td>\n",
              "      <td>19.386670</td>\n",
              "    </tr>\n",
              "    <tr>\n",
              "      <th>19</th>\n",
              "      <td>215</td>\n",
              "      <td>180.938199</td>\n",
              "    </tr>\n",
              "  </tbody>\n",
              "</table>\n",
              "</div>\n",
              "      <button class=\"colab-df-convert\" onclick=\"convertToInteractive('df-e786c60c-780e-41b6-a31c-6ed0e686adaa')\"\n",
              "              title=\"Convert this dataframe to an interactive table.\"\n",
              "              style=\"display:none;\">\n",
              "        \n",
              "  <svg xmlns=\"http://www.w3.org/2000/svg\" height=\"24px\"viewBox=\"0 0 24 24\"\n",
              "       width=\"24px\">\n",
              "    <path d=\"M0 0h24v24H0V0z\" fill=\"none\"/>\n",
              "    <path d=\"M18.56 5.44l.94 2.06.94-2.06 2.06-.94-2.06-.94-.94-2.06-.94 2.06-2.06.94zm-11 1L8.5 8.5l.94-2.06 2.06-.94-2.06-.94L8.5 2.5l-.94 2.06-2.06.94zm10 10l.94 2.06.94-2.06 2.06-.94-2.06-.94-.94-2.06-.94 2.06-2.06.94z\"/><path d=\"M17.41 7.96l-1.37-1.37c-.4-.4-.92-.59-1.43-.59-.52 0-1.04.2-1.43.59L10.3 9.45l-7.72 7.72c-.78.78-.78 2.05 0 2.83L4 21.41c.39.39.9.59 1.41.59.51 0 1.02-.2 1.41-.59l7.78-7.78 2.81-2.81c.8-.78.8-2.07 0-2.86zM5.41 20L4 18.59l7.72-7.72 1.47 1.35L5.41 20z\"/>\n",
              "  </svg>\n",
              "      </button>\n",
              "      \n",
              "  <style>\n",
              "    .colab-df-container {\n",
              "      display:flex;\n",
              "      flex-wrap:wrap;\n",
              "      gap: 12px;\n",
              "    }\n",
              "\n",
              "    .colab-df-convert {\n",
              "      background-color: #E8F0FE;\n",
              "      border: none;\n",
              "      border-radius: 50%;\n",
              "      cursor: pointer;\n",
              "      display: none;\n",
              "      fill: #1967D2;\n",
              "      height: 32px;\n",
              "      padding: 0 0 0 0;\n",
              "      width: 32px;\n",
              "    }\n",
              "\n",
              "    .colab-df-convert:hover {\n",
              "      background-color: #E2EBFA;\n",
              "      box-shadow: 0px 1px 2px rgba(60, 64, 67, 0.3), 0px 1px 3px 1px rgba(60, 64, 67, 0.15);\n",
              "      fill: #174EA6;\n",
              "    }\n",
              "\n",
              "    [theme=dark] .colab-df-convert {\n",
              "      background-color: #3B4455;\n",
              "      fill: #D2E3FC;\n",
              "    }\n",
              "\n",
              "    [theme=dark] .colab-df-convert:hover {\n",
              "      background-color: #434B5C;\n",
              "      box-shadow: 0px 1px 3px 1px rgba(0, 0, 0, 0.15);\n",
              "      filter: drop-shadow(0px 1px 2px rgba(0, 0, 0, 0.3));\n",
              "      fill: #FFFFFF;\n",
              "    }\n",
              "  </style>\n",
              "\n",
              "      <script>\n",
              "        const buttonEl =\n",
              "          document.querySelector('#df-e786c60c-780e-41b6-a31c-6ed0e686adaa button.colab-df-convert');\n",
              "        buttonEl.style.display =\n",
              "          google.colab.kernel.accessAllowed ? 'block' : 'none';\n",
              "\n",
              "        async function convertToInteractive(key) {\n",
              "          const element = document.querySelector('#df-e786c60c-780e-41b6-a31c-6ed0e686adaa');\n",
              "          const dataTable =\n",
              "            await google.colab.kernel.invokeFunction('convertToInteractive',\n",
              "                                                     [key], {});\n",
              "          if (!dataTable) return;\n",
              "\n",
              "          const docLinkHtml = 'Like what you see? Visit the ' +\n",
              "            '<a target=\"_blank\" href=https://colab.research.google.com/notebooks/data_table.ipynb>data table notebook</a>'\n",
              "            + ' to learn more about interactive tables.';\n",
              "          element.innerHTML = '';\n",
              "          dataTable['output_type'] = 'display_data';\n",
              "          await google.colab.output.renderOutput(dataTable, element);\n",
              "          const docLink = document.createElement('div');\n",
              "          docLink.innerHTML = docLinkHtml;\n",
              "          element.appendChild(docLink);\n",
              "        }\n",
              "      </script>\n",
              "    </div>\n",
              "  </div>\n",
              "  "
            ],
            "text/plain": [
              "    Actual   Predicted\n",
              "0       33   69.819058\n",
              "1       15   11.295542\n",
              "2       30   31.007622\n",
              "3        9   10.531982\n",
              "4       30   35.526277\n",
              "5       21   15.037071\n",
              "6       39   37.609893\n",
              "7      134  105.041270\n",
              "8       18   17.351077\n",
              "9       17   28.585500\n",
              "10      18   22.608065\n",
              "11     187   58.398318\n",
              "12      34   39.157027\n",
              "13      43   64.650380\n",
              "14      16   14.786371\n",
              "15     117  106.974375\n",
              "16      18   26.143001\n",
              "17      54   54.602008\n",
              "18      31   19.386670\n",
              "19     215  180.938199"
            ]
          },
          "metadata": {},
          "execution_count": 24
        }
      ]
    },
    {
      "cell_type": "code",
      "source": [
        "from sklearn import metrics\n",
        "print('MAE: ', metrics.mean_absolute_error(compare_df.Actual,compare_df.Predicted))\n",
        "print('MSE: ', metrics.mean_squared_error(compare_df.Actual,compare_df.Predicted))\n",
        "print('RMSE: ',np.sqrt(metrics.mean_absolute_error(compare_df.Actual,compare_df.Predicted)))"
      ],
      "metadata": {
        "colab": {
          "base_uri": "https://localhost:8080/"
        },
        "id": "UJNg1tKTjG7Y",
        "outputId": "de1ca078-86a0-4550-c9a8-7d6ddd0553a1"
      },
      "execution_count": null,
      "outputs": [
        {
          "output_type": "stream",
          "name": "stdout",
          "text": [
            "MAE:  13.38245888191689\n",
            "MSE:  453.8967275101678\n",
            "RMSE:  3.6582043247906326\n"
          ]
        }
      ]
    },
    {
      "cell_type": "code",
      "source": [
        "print('R-squared: ', metrics.r2_score(compare_df.Actual,compare_df.Predicted))"
      ],
      "metadata": {
        "colab": {
          "base_uri": "https://localhost:8080/"
        },
        "id": "XHiRjRtHkGDS",
        "outputId": "e24efa59-4128-4915-b9da-4e0089187658"
      },
      "execution_count": null,
      "outputs": [
        {
          "output_type": "stream",
          "name": "stdout",
          "text": [
            "R-squared:  0.8693318657516167\n"
          ]
        }
      ]
    },
    {
      "cell_type": "markdown",
      "source": [
        "##Polynomial Reg.\n"
      ],
      "metadata": {
        "id": "7ZVqjWN96cXO"
      }
    },
    {
      "cell_type": "code",
      "source": [
        "from sklearn.preprocessing import PolynomialFeatures\n",
        "from sklearn import metrics\n",
        "from sklearn.model_selection import train_test_split\n",
        "from sklearn.pipeline import make_pipeline\n",
        "from sklearn.linear_model import LinearRegression"
      ],
      "metadata": {
        "id": "80nPjbr86kfa"
      },
      "execution_count": null,
      "outputs": []
    },
    {
      "cell_type": "code",
      "source": [
        "poly = make_pipeline(PolynomialFeatures(3), LinearRegression())\n",
        "poly.fit(X_train, Y_train)"
      ],
      "metadata": {
        "colab": {
          "base_uri": "https://localhost:8080/"
        },
        "id": "bUzEKyh-75i0",
        "outputId": "b1fb2896-d508-4eb3-ea52-67f488ffed9e"
      },
      "execution_count": null,
      "outputs": [
        {
          "output_type": "execute_result",
          "data": {
            "text/plain": [
              "Pipeline(steps=[('polynomialfeatures', PolynomialFeatures(degree=3)),\n",
              "                ('linearregression', LinearRegression())])"
            ]
          },
          "metadata": {},
          "execution_count": 76
        }
      ]
    },
    {
      "cell_type": "code",
      "source": [
        "linear_regression = LinearRegression()\n",
        "linear_regression.fit(X_train, Y_train)"
      ],
      "metadata": {
        "colab": {
          "base_uri": "https://localhost:8080/"
        },
        "id": "OiIVAgRx8JW8",
        "outputId": "f377ed74-2c51-42db-b554-481769da332f"
      },
      "execution_count": null,
      "outputs": [
        {
          "output_type": "execute_result",
          "data": {
            "text/plain": [
              "LinearRegression()"
            ]
          },
          "metadata": {},
          "execution_count": 77
        }
      ]
    },
    {
      "cell_type": "code",
      "source": [
        "Y_pred_poly = poly.predict(X_test)\n",
        "Y_pred_linear = linear_regression.predict(X_test)\n",
        "\n",
        "print(Y_pred_poly)\n",
        "print(Y_pred_linear)"
      ],
      "metadata": {
        "colab": {
          "base_uri": "https://localhost:8080/"
        },
        "id": "MPHajgIn8OsK",
        "outputId": "bb37363d-d189-4fa7-c895-12d7f4b5eb48"
      },
      "execution_count": null,
      "outputs": [
        {
          "output_type": "stream",
          "name": "stdout",
          "text": [
            "[[ 7.03793403e+01]\n",
            " [ 1.55698271e+01]\n",
            " [ 2.78391278e+01]\n",
            " [ 1.44978417e+01]\n",
            " [ 3.09331045e+01]\n",
            " [ 1.93482530e+01]\n",
            " [ 3.23710537e+01]\n",
            " [ 1.06182704e+02]\n",
            " [ 1.35596521e+01]\n",
            " [ 2.61366451e+01]\n",
            " [ 1.30844741e+01]\n",
            " [ 7.37040469e+01]\n",
            " [ 4.05876561e+01]\n",
            " [ 5.69326240e+01]\n",
            " [ 1.77942344e+01]\n",
            " [ 1.50717681e+02]\n",
            " [ 2.47612216e+01]\n",
            " [ 4.62919178e+01]\n",
            " [ 2.03415140e+01]\n",
            " [ 2.29716331e+02]\n",
            " [ 2.53851624e+01]\n",
            " [ 2.33914336e+01]\n",
            " [ 9.46946183e+01]\n",
            " [ 1.11662822e+02]\n",
            " [ 1.49551246e+01]\n",
            " [ 2.05245308e+02]\n",
            " [ 2.23072792e+01]\n",
            " [ 3.70832126e+01]\n",
            " [ 2.67040386e+01]\n",
            " [ 3.29121734e+01]\n",
            " [ 2.49494948e+01]\n",
            " [ 2.19244904e+01]\n",
            " [ 1.98474900e+01]\n",
            " [ 1.14318890e+01]\n",
            " [ 6.81778203e+00]\n",
            " [ 2.37235196e+01]\n",
            " [ 1.71892039e+02]\n",
            " [ 2.18233246e+01]\n",
            " [ 2.89913243e+01]\n",
            " [ 4.24268693e+01]\n",
            " [ 1.44763374e+01]\n",
            " [ 1.18815566e+01]\n",
            " [ 1.48399166e+02]\n",
            " [ 1.36187107e+01]\n",
            " [ 2.45740099e+02]\n",
            " [ 5.13976654e+01]\n",
            " [ 8.54261333e+01]\n",
            " [ 6.93036516e+01]\n",
            " [ 3.70118552e+01]\n",
            " [ 4.05275019e+00]\n",
            " [ 2.89883832e+01]\n",
            " [ 2.38724474e+01]\n",
            " [ 5.98071347e+01]\n",
            " [ 2.86538460e+01]\n",
            " [ 1.23459753e+02]\n",
            " [-2.62458402e+00]\n",
            " [ 4.27445820e+01]\n",
            " [ 4.04725430e+01]\n",
            " [ 2.36076576e+01]\n",
            " [ 2.92235377e+01]\n",
            " [ 1.66022062e+01]\n",
            " [ 2.55259070e+01]\n",
            " [ 5.12743079e+00]\n",
            " [ 1.16033907e+01]\n",
            " [ 8.16801366e+00]\n",
            " [ 7.96149921e+01]\n",
            " [ 7.16263769e-01]\n",
            " [ 2.55860407e+01]\n",
            " [ 2.06976654e+01]\n",
            " [ 5.74536519e+00]\n",
            " [ 2.67747247e+01]\n",
            " [ 2.62404129e+01]\n",
            " [ 2.45276630e+01]\n",
            " [ 2.49358279e+01]\n",
            " [ 1.99239775e+01]\n",
            " [ 3.73129411e+01]\n",
            " [ 2.57242818e+01]\n",
            " [ 2.75157507e+00]\n",
            " [ 1.25528707e+01]\n",
            " [ 1.74429943e+01]\n",
            " [ 1.64711925e+01]\n",
            " [ 2.65212758e+01]\n",
            " [ 2.35672103e+02]\n",
            " [ 1.28414130e+01]\n",
            " [ 2.10358749e+02]\n",
            " [ 4.22846144e+01]\n",
            " [ 1.74412171e+02]\n",
            " [ 1.55007397e+01]\n",
            " [ 2.15625141e+01]\n",
            " [ 1.40851734e+01]\n",
            " [ 2.39615912e+01]\n",
            " [ 1.39742902e+01]\n",
            " [ 4.22330672e+01]\n",
            " [ 4.39554527e+00]\n",
            " [ 3.50394778e+01]\n",
            " [ 1.22012724e+01]\n",
            " [ 9.19183590e+00]\n",
            " [ 2.44919675e+01]\n",
            " [ 3.69997335e+01]\n",
            " [ 1.36385218e+01]\n",
            " [ 2.49111073e+01]\n",
            " [ 1.03239266e+01]\n",
            " [ 5.08220977e+01]\n",
            " [ 5.49148439e+01]\n",
            " [-5.58023950e+00]\n",
            " [ 4.87350859e+01]\n",
            " [ 6.63855837e+01]\n",
            " [ 3.56072343e+01]\n",
            " [ 4.11981106e+01]\n",
            " [ 3.70265561e+01]\n",
            " [ 1.17586511e+01]\n",
            " [ 2.42229991e+01]\n",
            " [ 6.78233645e+01]\n",
            " [ 2.54597878e+01]\n",
            " [ 2.03069582e+02]\n",
            " [ 4.84034318e+00]\n",
            " [ 1.77388997e+02]\n",
            " [ 1.16623022e+01]\n",
            " [ 2.05036510e+01]\n",
            " [-1.11222019e-01]\n",
            " [ 2.07496834e+02]\n",
            " [ 2.06716030e+01]\n",
            " [ 1.02908931e+02]\n",
            " [ 5.97879144e+01]\n",
            " [ 2.51159344e+00]\n",
            " [ 8.72387232e+00]]\n",
            "[[ 6.98190579e+01]\n",
            " [ 1.12955423e+01]\n",
            " [ 3.10076221e+01]\n",
            " [ 1.05319819e+01]\n",
            " [ 3.55262771e+01]\n",
            " [ 1.50370708e+01]\n",
            " [ 3.76098927e+01]\n",
            " [ 1.05041270e+02]\n",
            " [ 1.73510770e+01]\n",
            " [ 2.85854997e+01]\n",
            " [ 2.26080647e+01]\n",
            " [ 5.83983184e+01]\n",
            " [ 3.91570273e+01]\n",
            " [ 6.46503800e+01]\n",
            " [ 1.47863708e+01]\n",
            " [ 1.06974375e+02]\n",
            " [ 2.61430008e+01]\n",
            " [ 5.46020083e+01]\n",
            " [ 1.93866695e+01]\n",
            " [ 1.80938199e+02]\n",
            " [ 2.74942373e+01]\n",
            " [ 2.42138313e+01]\n",
            " [ 6.90672647e+01]\n",
            " [ 1.19779316e+02]\n",
            " [ 2.32528870e+01]\n",
            " [ 2.10766807e+02]\n",
            " [ 2.25799291e+01]\n",
            " [ 4.13460962e+01]\n",
            " [ 2.61673608e+01]\n",
            " [ 3.83674229e+01]\n",
            " [ 2.68365452e+01]\n",
            " [ 2.20236621e+01]\n",
            " [ 1.95502003e+01]\n",
            " [ 8.09484811e+00]\n",
            " [ 2.03543171e+00]\n",
            " [ 2.49239312e+01]\n",
            " [ 1.59581487e+02]\n",
            " [ 2.16064467e+01]\n",
            " [ 2.96964760e+01]\n",
            " [ 4.44228338e+01]\n",
            " [ 9.31249302e+00]\n",
            " [ 6.70017142e+00]\n",
            " [ 1.53925221e+02]\n",
            " [ 6.58029948e+00]\n",
            " [ 2.60336475e+02]\n",
            " [ 5.30570674e+01]\n",
            " [ 9.46794144e+01]\n",
            " [ 6.44773629e+01]\n",
            " [ 4.14534705e+01]\n",
            " [-5.34903641e-01]\n",
            " [ 3.28179611e+01]\n",
            " [ 2.50251557e+01]\n",
            " [ 6.36738970e+01]\n",
            " [ 3.17771835e+01]\n",
            " [ 1.23636984e+02]\n",
            " [-6.18974467e+00]\n",
            " [ 4.67135039e+01]\n",
            " [ 4.00849347e+01]\n",
            " [ 2.46551361e+01]\n",
            " [ 3.32202260e+01]\n",
            " [ 1.37885307e+01]\n",
            " [ 2.77008725e+01]\n",
            " [ 1.20223577e+01]\n",
            " [ 1.05062265e+01]\n",
            " [ 9.75416970e+00]\n",
            " [ 9.05608805e+01]\n",
            " [-3.65066508e+00]\n",
            " [ 2.76967561e+01]\n",
            " [ 1.99148954e+01]\n",
            " [ 3.46941771e-01]\n",
            " [ 2.90756708e+01]\n",
            " [ 2.87547317e+01]\n",
            " [ 2.59489896e+01]\n",
            " [ 2.56985513e+01]\n",
            " [ 1.82285268e+01]\n",
            " [ 4.09176861e+01]\n",
            " [ 2.76823624e+01]\n",
            " [ 1.34720887e+01]\n",
            " [ 4.59525735e+00]\n",
            " [ 1.42223672e+01]\n",
            " [ 1.29710364e+01]\n",
            " [ 2.92118549e+01]\n",
            " [ 2.57067348e+02]\n",
            " [ 8.32220502e+00]\n",
            " [ 2.13531683e+02]\n",
            " [ 4.47464623e+01]\n",
            " [ 1.70863108e+02]\n",
            " [ 1.17692212e+01]\n",
            " [ 2.13889795e+01]\n",
            " [ 7.62712986e+00]\n",
            " [ 2.51222571e+01]\n",
            " [ 7.15812653e+00]\n",
            " [ 4.91123348e+01]\n",
            " [-5.75910018e-02]\n",
            " [ 3.79476420e+01]\n",
            " [ 6.35706134e+00]\n",
            " [ 1.10462490e+01]\n",
            " [ 2.30983195e+01]\n",
            " [ 4.25973866e+01]\n",
            " [ 9.35794876e+00]\n",
            " [ 2.67559519e+01]\n",
            " [ 1.51006844e+01]\n",
            " [ 5.14694188e+01]\n",
            " [ 5.86265542e+01]\n",
            " [ 1.44769689e+01]\n",
            " [ 5.24232573e+01]\n",
            " [ 7.59419578e+01]\n",
            " [ 4.17237738e+01]\n",
            " [ 4.52509640e+01]\n",
            " [ 4.28966168e+01]\n",
            " [ 1.01714506e+01]\n",
            " [ 2.50547952e+01]\n",
            " [ 6.73218383e+01]\n",
            " [ 2.74250553e+01]\n",
            " [ 2.04559053e+02]\n",
            " [-8.67683238e-02]\n",
            " [ 1.36838033e+02]\n",
            " [ 8.53768134e+00]\n",
            " [ 1.84316882e+01]\n",
            " [-4.45433842e+00]\n",
            " [ 2.14134776e+02]\n",
            " [ 2.00586268e+01]\n",
            " [ 1.12751113e+02]\n",
            " [ 6.33006179e+01]\n",
            " [-2.18033658e+00]\n",
            " [ 1.05817498e+01]]\n"
          ]
        }
      ]
    },
    {
      "cell_type": "code",
      "source": [
        "compare_dataset = pd.DataFrame({'Actual': Y_test.flatten(), 'Predicted_polynomial': Y_pred_poly.flatten(), 'Predicted_Linear': Y_pred_linear.flatten()})"
      ],
      "metadata": {
        "id": "cWjHZdDr8T_-"
      },
      "execution_count": null,
      "outputs": []
    },
    {
      "cell_type": "code",
      "source": [
        "print(compare_dataset)"
      ],
      "metadata": {
        "colab": {
          "base_uri": "https://localhost:8080/"
        },
        "id": "VUhDRLtW8Xob",
        "outputId": "1685ec67-c640-4548-bd8f-af66db27c07f"
      },
      "execution_count": null,
      "outputs": [
        {
          "output_type": "stream",
          "name": "stdout",
          "text": [
            "     Actual  Predicted_polynomial  Predicted_Linear\n",
            "0        33             70.379340         69.819058\n",
            "1        15             15.569827         11.295542\n",
            "2        30             27.839128         31.007622\n",
            "3         9             14.497842         10.531982\n",
            "4        30             30.933105         35.526277\n",
            "..      ...                   ...               ...\n",
            "121      12             20.671603         20.058627\n",
            "122      59            102.908931        112.751113\n",
            "123      38             59.787914         63.300618\n",
            "124       7              2.511593         -2.180337\n",
            "125       7              8.723872         10.581750\n",
            "\n",
            "[126 rows x 3 columns]\n"
          ]
        }
      ]
    },
    {
      "cell_type": "code",
      "source": [
        "plt.figure(figsize=(8,8))\n",
        "plt.scatter(Y_pred_poly, Y_pred_linear)\n",
        "\n",
        "plt.xlabel('Predicted Polynomial')\n",
        "plt.ylabel('Predicted Linear')\n",
        "plt.title('Predicted Polynomial vs Predicted Linear')"
      ],
      "metadata": {
        "colab": {
          "base_uri": "https://localhost:8080/",
          "height": 530
        },
        "id": "P9ge5wxfsWAK",
        "outputId": "5018d0fa-189d-4ca7-cb9f-9022ba777936"
      },
      "execution_count": null,
      "outputs": [
        {
          "output_type": "execute_result",
          "data": {
            "text/plain": [
              "Text(0.5, 1.0, 'Predicted Polynomial vs Predicted Linear')"
            ]
          },
          "metadata": {},
          "execution_count": 81
        },
        {
          "output_type": "display_data",
          "data": {
            "image/png": "[encoded data removed]",
            "text/plain": [
              "<Figure size 576x576 with 1 Axes>"
            ]
          },
          "metadata": {
            "needs_background": "light"
          }
        }
      ]
    },
    {
      "cell_type": "code",
      "source": [
        "print('MAE: ', metrics.mean_absolute_error(compare_df.Actual,compare_df.Predicted))\n",
        "print('MSE: ', metrics.mean_squared_error(compare_df.Actual,compare_df.Predicted))\n",
        "print('RMSE: ',np.sqrt(metrics.mean_absolute_error(compare_df.Actual,compare_df.Predicted)))"
      ],
      "metadata": {
        "colab": {
          "base_uri": "https://localhost:8080/"
        },
        "id": "8jdqAPI69LWQ",
        "outputId": "ffc94c9d-1f75-486f-b08c-18254c2a1d41"
      },
      "execution_count": null,
      "outputs": [
        {
          "output_type": "stream",
          "name": "stdout",
          "text": [
            "MAE:  13.38245888191689\n",
            "MSE:  453.8967275101678\n",
            "RMSE:  3.6582043247906326\n"
          ]
        }
      ]
    },
    {
      "cell_type": "code",
      "source": [
        "print('MAE: ', metrics.mean_absolute_error(compare_dataset.Actual,compare_dataset.Predicted_polynomial))\n",
        "print('MSE: ', metrics.mean_squared_error(compare_dataset.Actual,compare_dataset.Predicted_polynomial))\n",
        "print('RMSE: ',np.sqrt(metrics.mean_absolute_error(compare_dataset.Actual,compare_dataset.Predicted_polynomial)))"
      ],
      "metadata": {
        "colab": {
          "base_uri": "https://localhost:8080/"
        },
        "id": "GNqvnRg68jhB",
        "outputId": "38234dd8-768a-467a-e813-325169ab01a7"
      },
      "execution_count": null,
      "outputs": [
        {
          "output_type": "stream",
          "name": "stdout",
          "text": [
            "MAE:  11.893999013323164\n",
            "MSE:  354.9264526123297\n",
            "RMSE:  3.4487677528826386\n"
          ]
        }
      ]
    },
    {
      "cell_type": "code",
      "source": [
        "print('R-squared: ', metrics.r2_score(compare_dataset.Actual,compare_dataset.Predicted_polynomial))"
      ],
      "metadata": {
        "colab": {
          "base_uri": "https://localhost:8080/"
        },
        "id": "R9I49n8Q8VzK",
        "outputId": "c8cc35ff-abca-46f0-8045-632962692cac"
      },
      "execution_count": null,
      "outputs": [
        {
          "output_type": "stream",
          "name": "stdout",
          "text": [
            "R-squared:  0.8978235035695175\n"
          ]
        }
      ]
    },
    {
      "cell_type": "markdown",
      "source": [
        "###**TRAINING** COMPARISION *LR* AND *PR:* \n",
        "\n",
        "\n",
        "\n"
      ],
      "metadata": {
        "id": "KAaoToYq9Zlh"
      }
    },
    {
      "cell_type": "code",
      "source": [
        "Y_pred_poly_train = poly.predict(X_train)\n",
        "Y_pred_linear_train = linear_regression.predict(X_train)"
      ],
      "metadata": {
        "id": "LQqFsquX8uw-"
      },
      "execution_count": null,
      "outputs": []
    },
    {
      "cell_type": "code",
      "source": [
        "compare_dataset_training = pd.DataFrame({'Actual': Y_train.flatten(), 'Predicted_polynomial': \n",
        "                                         Y_pred_poly_train.flatten(), 'Predicted_Linear': Y_pred_linear_train.flatten()})"
      ],
      "metadata": {
        "id": "ah2tMwkQ8xaZ"
      },
      "execution_count": null,
      "outputs": []
    },
    {
      "cell_type": "code",
      "source": [
        "print(compare_dataset_training)"
      ],
      "metadata": {
        "colab": {
          "base_uri": "https://localhost:8080/"
        },
        "id": "Ybigrn63_TMX",
        "outputId": "abda1304-46a0-4cf1-d895-627787794de9"
      },
      "execution_count": null,
      "outputs": [
        {
          "output_type": "stream",
          "name": "stdout",
          "text": [
            "     Actual  Predicted_polynomial  Predicted_Linear\n",
            "0        10             14.386308          9.536507\n",
            "1        50             32.686605         28.261109\n",
            "2         4             11.397119          8.554922\n",
            "3       102            119.571133         89.359329\n",
            "4         7             10.898767          8.067609\n",
            "..      ...                   ...               ...\n",
            "495      17             20.119096         19.048753\n",
            "496       5              1.639350         -2.827429\n",
            "497      45             87.442026         92.800795\n",
            "498      22             24.769436         26.527506\n",
            "499       9             11.978803         12.379663\n",
            "\n",
            "[500 rows x 3 columns]\n"
          ]
        }
      ]
    },
    {
      "cell_type": "code",
      "source": [
        "plt.figure(figsize=(8,8))\n",
        "plt.scatter(Y_pred_poly_train, Y_pred_linear_train)\n",
        "\n",
        "plt.xlabel('Train Polynomial')\n",
        "plt.ylabel('Train Linear')\n",
        "plt.title('Train Polynomial vs Train Linear')"
      ],
      "metadata": {
        "colab": {
          "base_uri": "https://localhost:8080/",
          "height": 530
        },
        "id": "iCJeoIB6tA5-",
        "outputId": "94971ce9-24f6-47ef-c31b-6c7328f26795"
      },
      "execution_count": null,
      "outputs": [
        {
          "output_type": "execute_result",
          "data": {
            "text/plain": [
              "Text(0.5, 1.0, 'Train Polynomial vs Train Linear')"
            ]
          },
          "metadata": {},
          "execution_count": 69
        },
        {
          "output_type": "display_data",
          "data": {
            "image/png": "[encoded data removed]",
            "text/plain": [
              "<Figure size 576x576 with 1 Axes>"
            ]
          },
          "metadata": {
            "needs_background": "light"
          }
        }
      ]
    },
    {
      "cell_type": "code",
      "source": [
        "print('MAE: ', metrics.mean_absolute_error(compare_dataset_training.Actual,compare_dataset_training.Predicted_Linear))\n",
        "print('MSE: ', metrics.mean_squared_error(compare_dataset_training.Actual,compare_dataset_training.Predicted_Linear))\n",
        "print('RMSE: ',np.sqrt(metrics.mean_absolute_error(compare_dataset_training.Actual,compare_dataset_training.Predicted_Linear)))"
      ],
      "metadata": {
        "colab": {
          "base_uri": "https://localhost:8080/"
        },
        "id": "6PvSmhlJ_ZWH",
        "outputId": "e2c71efa-fca3-4c3e-8382-fa08f0a4e368"
      },
      "execution_count": null,
      "outputs": [
        {
          "output_type": "stream",
          "name": "stdout",
          "text": [
            "MAE:  12.254248450189777\n",
            "MSE:  363.26841115001696\n",
            "RMSE:  3.500606868842855\n"
          ]
        }
      ]
    },
    {
      "cell_type": "code",
      "source": [
        "print('MAE: ', metrics.mean_absolute_error(compare_dataset_training.Actual,compare_dataset_training.Predicted_polynomial))\n",
        "print('MSE: ', metrics.mean_squared_error(compare_dataset_training.Actual,compare_dataset_training.Predicted_polynomial))\n",
        "print('RMSE: ',np.sqrt(metrics.mean_absolute_error(compare_dataset_training.Actual,compare_dataset_training.Predicted_polynomial)))"
      ],
      "metadata": {
        "colab": {
          "base_uri": "https://localhost:8080/"
        },
        "id": "GPaHeAkR_oV7",
        "outputId": "c6f000a5-1aa0-4376-8785-a74e5fbe1c75"
      },
      "execution_count": null,
      "outputs": [
        {
          "output_type": "stream",
          "name": "stdout",
          "text": [
            "MAE:  10.949908628835656\n",
            "MSE:  296.8371441754893\n",
            "RMSE:  3.3090646153914336\n"
          ]
        }
      ]
    },
    {
      "cell_type": "markdown",
      "source": [
        "**Ridge** Regression."
      ],
      "metadata": {
        "id": "VCajP_VsBAPi"
      }
    },
    {
      "cell_type": "code",
      "source": [
        "print(linear_regression.intercept_)\n",
        "print(linear_regression.coef_)"
      ],
      "metadata": {
        "colab": {
          "base_uri": "https://localhost:8080/"
        },
        "id": "w8uieIqTBFz9",
        "outputId": "1f7c1ad8-6216-47f0-f01d-6a0156042001"
      },
      "execution_count": null,
      "outputs": [
        {
          "output_type": "stream",
          "name": "stdout",
          "text": [
            "[-6.71927122]\n",
            "[[0.00068305 0.0154915 ]]\n"
          ]
        }
      ]
    },
    {
      "cell_type": "code",
      "source": [
        "from sklearn.linear_model import Ridge\n",
        "ridge = Ridge(alpha = 1)\n",
        "ridge.fit(X_train, Y_train)"
      ],
      "metadata": {
        "colab": {
          "base_uri": "https://localhost:8080/"
        },
        "id": "XE2qbV9iBJ1K",
        "outputId": "74bda2e7-9b4f-47a4-8bd6-49feed4120ef"
      },
      "execution_count": null,
      "outputs": [
        {
          "output_type": "execute_result",
          "data": {
            "text/plain": [
              "Ridge(alpha=1)"
            ]
          },
          "metadata": {},
          "execution_count": 41
        }
      ]
    },
    {
      "cell_type": "code",
      "source": [
        "print(ridge.intercept_)\n",
        "print(ridge.coef_)"
      ],
      "metadata": {
        "colab": {
          "base_uri": "https://localhost:8080/"
        },
        "id": "RdglkmPCBMZr",
        "outputId": "52e64e08-4786-4546-dd70-fceb7294b13c"
      },
      "execution_count": null,
      "outputs": [
        {
          "output_type": "stream",
          "name": "stdout",
          "text": [
            "[-6.71927124]\n",
            "[[0.00068305 0.0154915 ]]\n"
          ]
        }
      ]
    },
    {
      "cell_type": "code",
      "source": [
        "Y_pred_ridge = ridge.predict(X_test)"
      ],
      "metadata": {
        "id": "b8QrxNg0BbJU"
      },
      "execution_count": null,
      "outputs": []
    },
    {
      "cell_type": "code",
      "source": [
        "compare_dataset_ridge = pd.DataFrame({'Actual': Y_test.flatten(), 'Predicted_ridge': Y_pred_poly.flatten(), 'Predicted_Linear': Y_pred_linear.flatten()})"
      ],
      "metadata": {
        "id": "8yFgg4ZuBdhA"
      },
      "execution_count": null,
      "outputs": []
    },
    {
      "cell_type": "code",
      "source": [
        "print(compare_dataset_ridge)"
      ],
      "metadata": {
        "colab": {
          "base_uri": "https://localhost:8080/"
        },
        "id": "5nT6XdS0Bf4j",
        "outputId": "81e4c410-a485-4f31-f1f8-7f9cb1a29f28"
      },
      "execution_count": null,
      "outputs": [
        {
          "output_type": "stream",
          "name": "stdout",
          "text": [
            "     Actual  Predicted_ridge  Predicted_Linear\n",
            "0        33        70.379340         69.819058\n",
            "1        15        15.569827         11.295542\n",
            "2        30        27.839128         31.007622\n",
            "3         9        14.497842         10.531982\n",
            "4        30        30.933105         35.526277\n",
            "..      ...              ...               ...\n",
            "121      12        20.671603         20.058627\n",
            "122      59       102.908931        112.751113\n",
            "123      38        59.787914         63.300618\n",
            "124       7         2.511593         -2.180337\n",
            "125       7         8.723872         10.581750\n",
            "\n",
            "[126 rows x 3 columns]\n"
          ]
        }
      ]
    },
    {
      "cell_type": "code",
      "source": [
        "print('MAE: ', metrics.mean_absolute_error(compare_dataset_ridge.Actual,compare_dataset_ridge.Predicted_ridge))\n",
        "print('MSE: ', metrics.mean_squared_error(compare_dataset_ridge.Actual,compare_dataset_ridge.Predicted_ridge))\n",
        "print('RMSE: ',np.sqrt(metrics.mean_absolute_error(compare_dataset_ridge.Actual,compare_dataset_ridge.Predicted_ridge)))"
      ],
      "metadata": {
        "colab": {
          "base_uri": "https://localhost:8080/"
        },
        "id": "5FWOK_-zBn5j",
        "outputId": "4094f341-4d69-4209-c075-13ace097a4d8"
      },
      "execution_count": null,
      "outputs": [
        {
          "output_type": "stream",
          "name": "stdout",
          "text": [
            "MAE:  11.893999013323164\n",
            "MSE:  354.9264526123297\n",
            "RMSE:  3.4487677528826386\n"
          ]
        }
      ]
    },
    {
      "cell_type": "code",
      "source": [
        "print('R-squared: ', metrics.r2_score(compare_dataset_ridge.Actual,compare_dataset_ridge.Predicted_ridge))"
      ],
      "metadata": {
        "colab": {
          "base_uri": "https://localhost:8080/"
        },
        "id": "828tbVuS9Agw",
        "outputId": "646a2d66-794e-4077-a9a1-961086c9c780"
      },
      "execution_count": null,
      "outputs": [
        {
          "output_type": "stream",
          "name": "stdout",
          "text": [
            "R-squared:  0.8978235035695175\n"
          ]
        }
      ]
    },
    {
      "cell_type": "code",
      "source": [
        ""
      ],
      "metadata": {
        "id": "MXhWs-Kc836K"
      },
      "execution_count": null,
      "outputs": []
    },
    {
      "cell_type": "markdown",
      "source": [
        "**Lasso** Regression."
      ],
      "metadata": {
        "id": "GHpR8SYFGqJc"
      }
    },
    {
      "cell_type": "code",
      "source": [
        "from sklearn import linear_model\n",
        "lasso = linear_model.Lasso(alpha=0.1)\n",
        "lasso.fit(X_train, Y_train)"
      ],
      "metadata": {
        "colab": {
          "base_uri": "https://localhost:8080/"
        },
        "id": "uuupS34pGrCv",
        "outputId": "f92a9217-692f-4a26-9ac7-674876f89c4a"
      },
      "execution_count": null,
      "outputs": [
        {
          "output_type": "execute_result",
          "data": {
            "text/plain": [
              "Lasso(alpha=0.1)"
            ]
          },
          "metadata": {},
          "execution_count": 47
        }
      ]
    },
    {
      "cell_type": "code",
      "source": [
        "Y_pred_lasso = lasso.predict(X_test)"
      ],
      "metadata": {
        "id": "aZxUfwJPG32Z"
      },
      "execution_count": null,
      "outputs": []
    },
    {
      "cell_type": "code",
      "source": [
        "print(lasso.intercept_)\n",
        "print(lasso.coef_)\n"
      ],
      "metadata": {
        "colab": {
          "base_uri": "https://localhost:8080/"
        },
        "id": "KcszLs65G6i-",
        "outputId": "35d81ccc-6a77-4bb3-e1c7-6f4a031791cc"
      },
      "execution_count": null,
      "outputs": [
        {
          "output_type": "stream",
          "name": "stdout",
          "text": [
            "[-6.71936177]\n",
            "[0.00068306 0.01549146]\n"
          ]
        }
      ]
    },
    {
      "cell_type": "code",
      "source": [
        "compare_dataset_lasso = pd.DataFrame({'Actual': Y_test.flatten(), 'Predicted_Ridge': Y_pred_lasso.flatten(),\n",
        "                                'Predicted_Lasso': Y_pred_lasso.flatten()})"
      ],
      "metadata": {
        "id": "QlfYlyNCG_hb"
      },
      "execution_count": null,
      "outputs": []
    },
    {
      "cell_type": "code",
      "source": [
        "print(compare_dataset_lasso)"
      ],
      "metadata": {
        "colab": {
          "base_uri": "https://localhost:8080/"
        },
        "id": "g4rJyPhqHWhk",
        "outputId": "6881454e-a753-4718-da53-a9c6558fce17"
      },
      "execution_count": null,
      "outputs": [
        {
          "output_type": "stream",
          "name": "stdout",
          "text": [
            "     Actual  Predicted_Ridge  Predicted_Lasso\n",
            "0        33        69.819105        69.819105\n",
            "1        15        11.295584        11.295584\n",
            "2        30        31.007641        31.007641\n",
            "3         9        10.532037        10.532037\n",
            "4        30        35.526287        35.526287\n",
            "..      ...              ...              ...\n",
            "121      12        20.058663        20.058663\n",
            "122      59       112.751066       112.751066\n",
            "123      38        63.300550        63.300550\n",
            "124       7        -2.180416        -2.180416\n",
            "125       7        10.581849        10.581849\n",
            "\n",
            "[126 rows x 3 columns]\n"
          ]
        }
      ]
    },
    {
      "cell_type": "code",
      "source": [
        "print('MAE: ', metrics.mean_absolute_error(compare_dataset_ridge.Actual,compare_dataset_ridge.Predicted_ridge))\n",
        "print('MSE: ', metrics.mean_squared_error(compare_dataset_ridge.Actual,compare_dataset_ridge.Predicted_ridge))\n",
        "print('RMSE: ',np.sqrt(metrics.mean_absolute_error(compare_dataset_ridge.Actual,compare_dataset_ridge.Predicted_ridge)))"
      ],
      "metadata": {
        "id": "Vssz0UACWSzQ"
      },
      "execution_count": null,
      "outputs": []
    },
    {
      "cell_type": "code",
      "source": [
        "from sklearn.linear_model import ElasticNet\n",
        "from sklearn.datasets import make_regression"
      ],
      "metadata": {
        "id": "cP_DiFKzIusv"
      },
      "execution_count": null,
      "outputs": []
    },
    {
      "cell_type": "code",
      "source": [
        "x, y = make_regression(n_features=2, random_state=0)\n",
        "regr = ElasticNet(random_state=0,)\n",
        "regr.fit(X_train, Y_train)"
      ],
      "metadata": {
        "colab": {
          "base_uri": "https://localhost:8080/"
        },
        "id": "mYE2nwASI7j5",
        "outputId": "96f5905f-e564-48bf-a726-2f53a2dc5658"
      },
      "execution_count": null,
      "outputs": [
        {
          "output_type": "execute_result",
          "data": {
            "text/plain": [
              "ElasticNet(random_state=0)"
            ]
          },
          "metadata": {},
          "execution_count": 109
        }
      ]
    },
    {
      "cell_type": "code",
      "source": [
        "print(regr.intercept_)\n",
        "print(regr.coef_)"
      ],
      "metadata": {
        "colab": {
          "base_uri": "https://localhost:8080/"
        },
        "id": "HmbMosfxJVLs",
        "outputId": "595bbb21-92cd-4efb-e0e0-dfde92369367"
      },
      "execution_count": null,
      "outputs": [
        {
          "output_type": "stream",
          "name": "stdout",
          "text": [
            "[-6.71966809]\n",
            "[0.0006831  0.01549132]\n"
          ]
        }
      ]
    },
    {
      "cell_type": "code",
      "source": [
        "print(regr.predict([[0, 0]]))"
      ],
      "metadata": {
        "colab": {
          "base_uri": "https://localhost:8080/"
        },
        "id": "mvZWxPJFJ53X",
        "outputId": "6b556656-32cd-4bbc-baaa-c83caa0d42bb"
      },
      "execution_count": null,
      "outputs": [
        {
          "output_type": "stream",
          "name": "stdout",
          "text": [
            "[-6.71966809]\n"
          ]
        }
      ]
    },
    {
      "cell_type": "code",
      "source": [
        "Y_pred_ElasticNet = regr.predict(X_test)"
      ],
      "metadata": {
        "id": "4tgXldYVKIFv"
      },
      "execution_count": null,
      "outputs": []
    },
    {
      "cell_type": "code",
      "source": [
        "compare_dataset = pd.DataFrame({'Actual': Y_test.flatten(), 'Predicted_Ridge': Y_pred_ridge.flatten(),\n",
        "                                'Predicted_Lasso': Y_pred_lasso.flatten(), 'Predicted_Elastic_Net': Y_pred_ElasticNet.flatten()})"
      ],
      "metadata": {
        "id": "Lne-sbgMJnXt"
      },
      "execution_count": null,
      "outputs": []
    },
    {
      "cell_type": "code",
      "source": [
        "print(compare_dataset)"
      ],
      "metadata": {
        "colab": {
          "base_uri": "https://localhost:8080/"
        },
        "id": "0r-cWB9QKd9f",
        "outputId": "d8519f07-da5d-4aee-d1b8-e08a4ffc47e9"
      },
      "execution_count": null,
      "outputs": [
        {
          "output_type": "stream",
          "name": "stdout",
          "text": [
            "     Actual  Predicted_Ridge  Predicted_Lasso  Predicted_Elastic_Net\n",
            "0        33        69.819058        69.819105              69.819265\n",
            "1        15        11.295542        11.295584              11.295744\n",
            "2        30        31.007622        31.007641              31.007714\n",
            "3         9        10.531982        10.532037              10.532244\n",
            "4        30        35.526277        35.526287              35.526328\n",
            "..      ...              ...              ...                    ...\n",
            "121      12        20.058627        20.058663              20.058803\n",
            "122      59       112.751113       112.751066             112.750875\n",
            "123      38        63.300618        63.300550              63.300300\n",
            "124       7        -2.180337        -2.180416              -2.180682\n",
            "125       7        10.581750        10.581849              10.582215\n",
            "\n",
            "[126 rows x 4 columns]\n"
          ]
        }
      ]
    }
  ]
}